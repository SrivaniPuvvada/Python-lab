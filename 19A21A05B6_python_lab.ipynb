{
  "nbformat": 4,
  "nbformat_minor": 0,
  "metadata": {
    "colab": {
      "name": "19A21A05B6 -python lab",
      "provenance": [],
      "authorship_tag": "ABX9TyNHMyumNuNo3AQyd3U9PqSv",
      "include_colab_link": true
    },
    "kernelspec": {
      "name": "python3",
      "display_name": "Python 3"
    },
    "language_info": {
      "name": "python"
    }
  },
  "cells": [
    {
      "cell_type": "markdown",
      "metadata": {
        "id": "view-in-github",
        "colab_type": "text"
      },
      "source": [
        "<a href=\"https://colab.research.google.com/github/SrivaniPuvvada/Python-lab/blob/main/19A21A05B6_python_lab.ipynb\" target=\"_parent\"><img src=\"https://colab.research.google.com/assets/colab-badge.svg\" alt=\"Open In Colab\"/></a>"
      ]
    },
    {
      "cell_type": "markdown",
      "metadata": {
        "id": "Z4dYEjviD_DS"
      },
      "source": [
        "Name : P.B.N.Srivani \n",
        "\n",
        "Regdno: 19A21A05B6\n",
        "\n",
        "Section: CSE-B"
      ]
    },
    {
      "cell_type": "markdown",
      "metadata": {
        "id": "SOSnVUkdf69S"
      },
      "source": [
        "a) Running instructions in interactive interpreter and a python script"
      ]
    },
    {
      "cell_type": "code",
      "metadata": {
        "colab": {
          "base_uri": "https://localhost:8080/"
        },
        "id": "k83kcm1IgEkB",
        "outputId": "b94e0d60-e7c7-4c38-e543-d417343b2251"
      },
      "source": [
        "20+40"
      ],
      "execution_count": null,
      "outputs": [
        {
          "output_type": "execute_result",
          "data": {
            "text/plain": [
              "60"
            ]
          },
          "metadata": {
            "tags": []
          },
          "execution_count": 2
        }
      ]
    },
    {
      "cell_type": "code",
      "metadata": {
        "colab": {
          "base_uri": "https://localhost:8080/",
          "height": 35
        },
        "id": "0oqOQ5w5gIqh",
        "outputId": "9d01879c-5b9f-4590-88b1-5f851e24d2d5"
      },
      "source": [
        "p,q,r=10,56.3,\"cse\" \n",
        "r"
      ],
      "execution_count": null,
      "outputs": [
        {
          "output_type": "execute_result",
          "data": {
            "application/vnd.google.colaboratory.intrinsic+json": {
              "type": "string"
            },
            "text/plain": [
              "'cse'"
            ]
          },
          "metadata": {
            "tags": []
          },
          "execution_count": 7
        }
      ]
    },
    {
      "cell_type": "markdown",
      "metadata": {
        "id": "J3qnsWLngmDi"
      },
      "source": [
        "b) write a program to purposefully raise indentation error and correct it"
      ]
    },
    {
      "cell_type": "code",
      "metadata": {
        "colab": {
          "base_uri": "https://localhost:8080/",
          "height": 163
        },
        "id": "SrWuUUyqgyrU",
        "outputId": "082468c0-6b69-4818-a626-b70617f94c7d"
      },
      "source": [
        "a=10\n",
        "b=20\n",
        "if a>b:\n",
        "print(\"a is big\") \n",
        "else:\n",
        "print(\"b is big\")"
      ],
      "execution_count": null,
      "outputs": [
        {
          "output_type": "error",
          "ename": "IndentationError",
          "evalue": "ignored",
          "traceback": [
            "\u001b[0;36m  File \u001b[0;32m\"<ipython-input-8-7e53c3fe297e>\"\u001b[0;36m, line \u001b[0;32m3\u001b[0m\n\u001b[0;31m    print(\"a is big\")\u001b[0m\n\u001b[0m        ^\u001b[0m\n\u001b[0;31mIndentationError\u001b[0m\u001b[0;31m:\u001b[0m expected an indented block\n"
          ]
        }
      ]
    },
    {
      "cell_type": "markdown",
      "metadata": {
        "id": "0nsRAJuVhHTi"
      },
      "source": [
        "Identation syntax error, \n",
        "Correct code is"
      ]
    },
    {
      "cell_type": "code",
      "metadata": {
        "colab": {
          "base_uri": "https://localhost:8080/"
        },
        "id": "VrDIvWPYhMte",
        "outputId": "cc421069-5636-4604-8147-f7add0b7696a"
      },
      "source": [
        "a=10\n",
        "b=20\n",
        "if a>b:\n",
        "  print(\"a is big\") \n",
        "else: \n",
        "  print(\"b is big\")"
      ],
      "execution_count": null,
      "outputs": [
        {
          "output_type": "stream",
          "text": [
            "b is big\n"
          ],
          "name": "stdout"
        }
      ]
    },
    {
      "cell_type": "markdown",
      "metadata": {
        "id": "ZJgZTQiXh0E3"
      },
      "source": [
        "Exercise -2"
      ]
    },
    {
      "cell_type": "markdown",
      "metadata": {
        "id": "5IDCNjanh13Z"
      },
      "source": [
        "Write a program to compute distance between two points taking input from user"
      ]
    },
    {
      "cell_type": "code",
      "metadata": {
        "colab": {
          "base_uri": "https://localhost:8080/"
        },
        "id": "fKFnNheoh9H0",
        "outputId": "df97ef51-163b-46ef-ce66-0716a2daf8f5"
      },
      "source": [
        "import math\n",
        "x1=int(input(\"enter x1 value\")) \n",
        "x2=int(input(\"enter x2 value\"))\n",
        "y1=int(input(\"enter y1 value\"))\n",
        "y2=int(input(\"enter y2 value\")) \n",
        "d=math.sqrt((x2-x1)**2+(y2-y1)**2)\n",
        "print(\"Distance between two points is :\",d)"
      ],
      "execution_count": null,
      "outputs": [
        {
          "output_type": "stream",
          "text": [
            "enter x1 value10\n",
            "enter x2 value4\n",
            "enter y1 value5\n",
            "enter y2 value9\n",
            "Distance between two points is : 7.211102550927978\n"
          ],
          "name": "stdout"
        }
      ]
    },
    {
      "cell_type": "markdown",
      "metadata": {
        "id": "wHS_6ESfi1rY"
      },
      "source": [
        " Exercise-3"
      ]
    },
    {
      "cell_type": "markdown",
      "metadata": {
        "id": "Ph7p37EEi59B"
      },
      "source": [
        "a) write a program for checking whether given number is even or not"
      ]
    },
    {
      "cell_type": "code",
      "metadata": {
        "colab": {
          "base_uri": "https://localhost:8080/"
        },
        "id": "7sjBG8KQjAtA",
        "outputId": "d12090d5-1d07-475c-c432-b7c1f12e6232"
      },
      "source": [
        "x= int(input(\" enter the value\"))\n",
        "if x%2==0:\n",
        "  print(\"even number\")\n",
        "else:\n",
        "  print(\"odd number\")"
      ],
      "execution_count": null,
      "outputs": [
        {
          "output_type": "stream",
          "text": [
            " enter the value65\n",
            "odd number\n"
          ],
          "name": "stdout"
        }
      ]
    },
    {
      "cell_type": "markdown",
      "metadata": {
        "id": "qg5eOAhBjeXW"
      },
      "source": [
        "b) using for loop ,write a program that prints out the decimal equivalents of1/2,1/3,1/4,.....1/10"
      ]
    },
    {
      "cell_type": "code",
      "metadata": {
        "colab": {
          "base_uri": "https://localhost:8080/"
        },
        "id": "y2_MBCVZjzRu",
        "outputId": "ffafb611-74a4-489b-8356-8ae67e59f481"
      },
      "source": [
        "for i in range(2,11): \n",
        "  d=1/i\n",
        "  print(\"\\n1/\"+str(i)+\"=\",d)"
      ],
      "execution_count": null,
      "outputs": [
        {
          "output_type": "stream",
          "text": [
            "\n",
            "1/2= 0.5\n",
            "\n",
            "1/3= 0.3333333333333333\n",
            "\n",
            "1/4= 0.25\n",
            "\n",
            "1/5= 0.2\n",
            "\n",
            "1/6= 0.16666666666666666\n",
            "\n",
            "1/7= 0.14285714285714285\n",
            "\n",
            "1/8= 0.125\n",
            "\n",
            "1/9= 0.1111111111111111\n",
            "\n",
            "1/10= 0.1\n"
          ],
          "name": "stdout"
        }
      ]
    },
    {
      "cell_type": "markdown",
      "metadata": {
        "id": "O1HUvc3NkLha"
      },
      "source": [
        "c)write a program using for loop that loops over a sequence . What is sequence ?"
      ]
    },
    {
      "cell_type": "markdown",
      "metadata": {
        "id": "X0nP208dknuf"
      },
      "source": [
        "Sequence : collection of items or group of items with some ordering"
      ]
    },
    {
      "cell_type": "code",
      "metadata": {
        "colab": {
          "base_uri": "https://localhost:8080/"
        },
        "id": "9xAEecoSkyz7",
        "outputId": "72929471-8f53-472a-e132-1d5f4061462d"
      },
      "source": [
        "n=[45,2,6,7,9,-34] \n",
        "for i in n: \n",
        "   print(i)"
      ],
      "execution_count": null,
      "outputs": [
        {
          "output_type": "stream",
          "text": [
            "45\n",
            "2\n",
            "6\n",
            "7\n",
            "9\n",
            "-34\n"
          ],
          "name": "stdout"
        }
      ]
    },
    {
      "cell_type": "markdown",
      "metadata": {
        "id": "4ACU3gpulFoj"
      },
      "source": [
        "d)write a program using a while loop that asks the user for a number , and prints a countdown from that number to zero"
      ]
    },
    {
      "cell_type": "code",
      "metadata": {
        "colab": {
          "base_uri": "https://localhost:8080/"
        },
        "id": "nVtgiVcblaMO",
        "outputId": "804bf893-530a-4a0e-94b3-f6236c991e5b"
      },
      "source": [
        "x=int(input(\"enter a number\")) \n",
        "while x>0: \n",
        "  print(x) \n",
        "  x-=1"
      ],
      "execution_count": null,
      "outputs": [
        {
          "output_type": "stream",
          "text": [
            "enter a number5\n",
            "5\n",
            "4\n",
            "3\n",
            "2\n",
            "1\n"
          ],
          "name": "stdout"
        }
      ]
    },
    {
      "cell_type": "markdown",
      "metadata": {
        "id": "Oi9LLzZamJ2G"
      },
      "source": [
        " Exercise -4"
      ]
    },
    {
      "cell_type": "markdown",
      "metadata": {
        "id": "1ewGSBgmmX__"
      },
      "source": [
        "a)find the sum of all the primes below two million"
      ]
    },
    {
      "cell_type": "code",
      "metadata": {
        "id": "o_E7eEEkmtGZ",
        "colab": {
          "base_uri": "https://localhost:8080/"
        },
        "outputId": "9e682499-b403-4839-f52b-0c68da0b45b2"
      },
      "source": [
        " \n",
        "n=int(input(\" enter a limit \"))\n",
        "c=0\n",
        "sum=0\n",
        "for i in range(2,n):\n",
        "    c=0\n",
        "    for j in range(2,i):\n",
        "        if i%j==0:\n",
        "            c=1\n",
        "            break\n",
        "    if c==0:\n",
        "        sum=sum+i\n",
        "print(sum)"
      ],
      "execution_count": null,
      "outputs": [
        {
          "output_type": "stream",
          "text": [
            " enter a limit 10\n",
            "17\n"
          ],
          "name": "stdout"
        }
      ]
    },
    {
      "cell_type": "markdown",
      "metadata": {
        "id": "Ut5GyO4pf6ov"
      },
      "source": [
        " b)Each new term in the Fibonacci sequence is obtained by adding the previous two terms. By starting with 1 and 2, the first 10 terms are 1,2,3,5,8,13,21,34,55,89.\n",
        "By consider the Fibonacci terms less than four million, find the sum of even valued terms."
      ]
    },
    {
      "cell_type": "code",
      "metadata": {
        "colab": {
          "base_uri": "https://localhost:8080/"
        },
        "id": "WEQdsNRahkby",
        "outputId": "35797ec6-d8d3-44dc-e120-637ee597fc82"
      },
      "source": [
        " \n",
        "n=int(input(\" enter an number\"))\n",
        "sum=0\n",
        "fib1=1\n",
        "fib2=2\n",
        "for i in range(n):\n",
        "    if fib1%2==0:\n",
        "        sum=sum+fib1\n",
        "    fib=fib1+fib2\n",
        "    fib1=fib2\n",
        "    fib2=fib\n",
        "print(\"sum of even fibnoccai terms is\",sum)"
      ],
      "execution_count": null,
      "outputs": [
        {
          "output_type": "stream",
          "text": [
            " enter an number10\n",
            "sum of even fibnoccai terms is 44\n"
          ],
          "name": "stdout"
        }
      ]
    },
    {
      "cell_type": "markdown",
      "metadata": {
        "id": "9dKQM_Ahn5XA"
      },
      "source": [
        "Exercise -5"
      ]
    },
    {
      "cell_type": "markdown",
      "metadata": {
        "id": "ZqAk_gYKn6vi"
      },
      "source": [
        "a)write a program to count the no of characters in a string and store them in a dictionary structure"
      ]
    },
    {
      "cell_type": "code",
      "metadata": {
        "colab": {
          "base_uri": "https://localhost:8080/"
        },
        "id": "LDssyCS1op1P",
        "outputId": "dfeeb2fc-a01e-4839-8956-4ec1aed04497"
      },
      "source": [
        " \n",
        "str=input(\"enter a string:\")\n",
        "dic={}\n",
        "for ch in str:\n",
        "    keys=dic.keys()\n",
        "    if ch in keys:\n",
        "        dic[ch]=dic[ch]+1\n",
        "    else:\n",
        "        dic[ch]=1\n",
        "print(\"dictionary is \",dic)"
      ],
      "execution_count": null,
      "outputs": [
        {
          "output_type": "stream",
          "text": [
            "enter a string:Srivani\n",
            "dictionary is  {'S': 1, 'r': 1, 'i': 2, 'v': 1, 'a': 1, 'n': 1}\n"
          ],
          "name": "stdout"
        }
      ]
    },
    {
      "cell_type": "markdown",
      "metadata": {
        "id": "hfexs0V0uVFV"
      },
      "source": [
        "b) write a program to use split and join methods in a string and trace a birthday with a dictionary data structure ."
      ]
    },
    {
      "cell_type": "code",
      "metadata": {
        "colab": {
          "base_uri": "https://localhost:8080/"
        },
        "id": "1_EEhtGNvCq7",
        "outputId": "c1b62f3f-23ae-4802-b298-bd095642ab33"
      },
      "source": [
        " \n",
        "dob={\"Srivani\":\"12-08-2002\",\"Lakshmi\":\"24-10-2002\",\"Hema\":\"16-05-2002\"}\n",
        "name=input(\"enter which person dob u want:\")\n",
        "l=name.split()\n",
        " \n",
        "for i in l:\n",
        "    if i in dob.keys():\n",
        "        pers=i\n",
        " \n",
        "print(\" \".join([pers,\"birthday is:\",dob[pers]]))"
      ],
      "execution_count": null,
      "outputs": [
        {
          "output_type": "stream",
          "text": [
            "enter which person dob u want:Srivani\n",
            "Srivani birthday is: 12-08-2002\n"
          ],
          "name": "stdout"
        }
      ]
    },
    {
      "cell_type": "markdown",
      "metadata": {
        "id": "mNOn0bhqzGlt"
      },
      "source": [
        " Exercise -6"
      ]
    },
    {
      "cell_type": "markdown",
      "metadata": {
        "id": "s359hYb2zQq9"
      },
      "source": [
        "a) write a program combinelists that combines these lists into a dictionary"
      ]
    },
    {
      "cell_type": "code",
      "metadata": {
        "colab": {
          "base_uri": "https://localhost:8080/"
        },
        "id": "Gdk4t7hZziZF",
        "outputId": "f5724e51-fa02-4ba2-e74a-2eb219eb764a"
      },
      "source": [
        " \n",
        "state=[\"Karnataka\",\"orissa\",\"tamilnadu\",\"kerala\",\"westbengal\",\"maharastra\"]\n",
        "capital=[\"Bangalore\",\"bhuvaneswar\",\"chennai\",\"Thiruvananthapuram\",\"Kolkata\",\"mumbai\"]\n",
        "dic=dict(zip(state,capital))\n",
        "print(dic)"
      ],
      "execution_count": null,
      "outputs": [
        {
          "output_type": "stream",
          "text": [
            "{'Karnataka': 'Bangalore', 'orissa': 'bhuvaneswar', 'tamilnadu': 'chennai', 'kerala': 'Thiruvananthapuram', 'westbengal': 'Kolkata', 'maharastra': 'mumbai'}\n"
          ],
          "name": "stdout"
        }
      ]
    },
    {
      "cell_type": "markdown",
      "metadata": {
        "id": "jBqhOkHa3Gug"
      },
      "source": [
        "b) write a program to count the frequency of characters in a given file . Can you use character frequency to tell whether the given file is python file , cfile ,text file"
      ]
    },
    {
      "cell_type": "code",
      "metadata": {
        "id": "LXx1nfE43lqL"
      },
      "source": [
        " \n",
        "filetypes=['.py','.c','.txt']\n",
        "fn=input(\"enter a file name:\")\n",
        "f=open(fn,\"r\")\n",
        "count=dict()\n",
        "for  ft in filetypes:\n",
        "     if(ft in  fn):\n",
        "           if(ft==\".py\"):\n",
        "             print(\"python file\")\n",
        "           elif(ft==\".c\"):\n",
        "             print(\"cfile\")\n",
        "           elif(ft==\".txt\"):\n",
        "             print(\"text file\")\n",
        " \n",
        " \n",
        "for line in f:\n",
        "     for ch in line:\n",
        "          if ch in count:\n",
        "               count[ch]=count[ch]+1\n",
        " \n",
        "          else:\n",
        "              count[ch]=1\n",
        " \n",
        " \n",
        "print(count)\n",
        "f.close()"
      ],
      "execution_count": null,
      "outputs": []
    },
    {
      "cell_type": "markdown",
      "metadata": {
        "id": "dKtjM519s5ta"
      },
      "source": [
        "Exercise -7"
      ]
    },
    {
      "cell_type": "markdown",
      "metadata": {
        "id": "s8Bwwrhrs7XC"
      },
      "source": [
        " a) write a program to print each line of a file in reverse order"
      ]
    },
    {
      "cell_type": "code",
      "metadata": {
        "id": "H3Q3gQmVtLEj"
      },
      "source": [
        " \n",
        "fo=open(\"cse.txt\",\"r\")\n",
        "if fo:\n",
        "    st=fo.read()\n",
        "    print(\"file content is:\")\n",
        "fo.close()\n",
        "print()\n",
        "lines=st.split('\\n')\n",
        "for ln in lines:\n",
        "    i=len(ln)-1\n",
        "    while(i>=0):\n",
        "      print(ln[i],end='')\n",
        "      i=i-1\n",
        "    print()"
      ],
      "execution_count": null,
      "outputs": []
    },
    {
      "cell_type": "markdown",
      "metadata": {
        "id": "o8tpGUmMt0W_"
      },
      "source": [
        " b) write a program to compute the no.of characters,words and files in a file"
      ]
    },
    {
      "cell_type": "code",
      "metadata": {
        "id": "iASAvKnnuJbm"
      },
      "source": [
        " fo=open(\"cse.txt\",\"r\")\n",
        "if fo:\n",
        "    st=fo.read()\n",
        "    print(\"file content is:\")\n",
        "fo.close()\n",
        "print()\n",
        "nc=nw=nl=0\n",
        "for ch in st:\n",
        "    if(ch):\n",
        "        nc=nc+1\n",
        "    if(ch==''):\n",
        "        nw=nw+1\n",
        "    if(ch=='\\n'):\n",
        "        nl=nl+1\n",
        " \n",
        "print(\"number of characters in a file:\",nc)\n",
        "print(\"number of words in file is:\",nw)\n",
        "print(\"number of lines ins file:\",nl)"
      ],
      "execution_count": null,
      "outputs": []
    },
    {
      "cell_type": "markdown",
      "metadata": {
        "id": "YyhbV9i0udVd"
      },
      "source": [
        " Exercise -8"
      ]
    },
    {
      "cell_type": "markdown",
      "metadata": {
        "id": "SoZcZ04Wuhz5"
      },
      "source": [
        "a)Write a function ball collide that  takes two balls as parameters and compute if they are colliding. Your function should return Boolean representing whether or not the  two balls are colliding\n",
        "If distance between two balls centres <= sum of their radii then they are collides"
      ]
    },
    {
      "cell_type": "code",
      "metadata": {
        "colab": {
          "base_uri": "https://localhost:8080/"
        },
        "id": "aEYMMkLUvr3y",
        "outputId": "5dab7ef1-b129-4a66-acf0-e9d9ef7688dc"
      },
      "source": [
        " \n",
        "import math\n",
        "def ballcollide(tup1,tup2):\n",
        "    [x1,y1,r1]=tup1\n",
        "    [x2,y2,r2]=tup2\n",
        "    d=math.sqrt((x2-x1)**2+(y2-y1)**2)\n",
        "    if(d<=r1+r2):\n",
        "      return True\n",
        "    else:\n",
        "        return False\n",
        " \n",
        " \n",
        "ball1=(9,2,4)\n",
        "ball2=(3,5,1)\n",
        "c=ballcollide(ball1,ball2)\n",
        "if(c):\n",
        "    print(\"balls are collided\")\n",
        "else:\n",
        "    print(\"ball are not collided\")"
      ],
      "execution_count": null,
      "outputs": [
        {
          "output_type": "stream",
          "text": [
            "ball are not collided\n"
          ],
          "name": "stdout"
        }
      ]
    },
    {
      "cell_type": "markdown",
      "metadata": {
        "id": "aSqEeh0exdug"
      },
      "source": [
        " b)find the mean,median,mode for the given set of numbers in the list"
      ]
    },
    {
      "cell_type": "code",
      "metadata": {
        "id": "XcI_FO_Xxut2",
        "colab": {
          "base_uri": "https://localhost:8080/"
        },
        "outputId": "4bfc2f05-2b8f-4941-d96a-a2ed53dc1816"
      },
      "source": [
        "def mean(numlist):\n",
        "    return sum(numlist)/len(numlist)\n",
        "def median(numlist):\n",
        "    numlist.sort()\n",
        "    print(numlist)\n",
        "    n=len(numlist)\n",
        "    print(\"total\",n)\n",
        "    mid=n//2\n",
        "    print(\"mid:\",mid)\n",
        "    if(n%2==0):\n",
        "        return numlist[mid]\n",
        "    else:\n",
        "        return (numlist[mid-1]+numlist[mid])/2\n",
        "def mode(numlist):\n",
        "    numlist.sort()\n",
        "    temp=[]\n",
        "    i=0\n",
        "    while i<len(numlist):\n",
        "        temp.append(numlist.count(numlist[i]))\n",
        "        i+=1\n",
        "    dic=dict(zip(numlist,temp))\n",
        "    modes={k for k, v in dic.items() if(v==max(temp))}\n",
        "    return modes\n",
        "list=[1,1,2,2,3,4,5,3,3]\n",
        "print(\"mean of given list:\",mean(list))\n",
        "print(\"median of given list:\",median(list))\n",
        " \n",
        "print(\"mode of given list:\",mode(list))"
      ],
      "execution_count": null,
      "outputs": [
        {
          "output_type": "stream",
          "text": [
            "mean of given list: 2.6666666666666665\n",
            "[1, 1, 2, 2, 3, 3, 3, 4, 5]\n",
            "total 9\n",
            "mid: 4\n",
            "median of given list: 2.5\n",
            "mode of given list: {3}\n"
          ],
          "name": "stdout"
        }
      ]
    },
    {
      "cell_type": "markdown",
      "metadata": {
        "id": "wi6XvBvaZ6gZ"
      },
      "source": [
        " Exercise -9"
      ]
    },
    {
      "cell_type": "markdown",
      "metadata": {
        "id": "2T1YoTzjb0Tc"
      },
      "source": [
        " a) write a program to test whether two strings are nearly equal . Two strings a and b are nearly equal if a is generated by single mutation of b"
      ]
    },
    {
      "cell_type": "code",
      "metadata": {
        "colab": {
          "base_uri": "https://localhost:8080/"
        },
        "id": "w3uFycU3cGLs",
        "outputId": "c9d6b3da-cc73-45c4-ae2a-c311ecc443de"
      },
      "source": [
        " def nearlyeq(str1,str2):\n",
        "    count=0\n",
        "    i=j=0\n",
        "    ss=0\n",
        "    while(i<len(str1)and j<len(str2)):\n",
        "        if(str1[i]!=str2[j]):\n",
        "            count+=1\n",
        "        if(len(str1)>len(str2)):\n",
        "            i+=1\n",
        " \n",
        "        elif(len(str1)==len(str2)):\n",
        "            pass\n",
        "        else:\n",
        "            i-=1     \n",
        "        if(count>1):\n",
        "             ss-=1\n",
        "             \n",
        "        i+=1\n",
        "        j+=1\n",
        "        if(count<2):\n",
        "             ss+=1\n",
        " \n",
        "    return ss\n",
        "s1=input(\"enter a string 1:\")\n",
        "s2=input(\"enter the string2:\")\n",
        "t=nearlyeq(s1,s2)\n",
        "if(t>1):\n",
        "    print(\"nearly equal\")\n",
        "else:\n",
        "    print(\"not nearly equal\")"
      ],
      "execution_count": null,
      "outputs": [
        {
          "output_type": "stream",
          "text": [
            "enter a string 1:Vani\n",
            "enter the string2:Rani\n",
            "nearly equal\n"
          ],
          "name": "stdout"
        }
      ]
    },
    {
      "cell_type": "markdown",
      "metadata": {
        "id": "enDqg5hxckH6"
      },
      "source": [
        "b)write a function dup to find all duplicate s in the list."
      ]
    },
    {
      "cell_type": "code",
      "metadata": {
        "colab": {
          "base_uri": "https://localhost:8080/"
        },
        "id": "I_LsCtF4cylC",
        "outputId": "3925ec6b-88c3-4219-d551-1d4fc7f68e1f"
      },
      "source": [
        " def dup(list):\n",
        "  list1=[]\n",
        "  for i in list:\n",
        "    count=list.count(i)\n",
        "    if(count>1 and (i not in list1)):\n",
        "        list1.append(i)\n",
        "        \n",
        "  print(\"the dups in the list are:\",list1)        \n",
        "list2=[1,2,1,2]\n",
        " \n",
        "dup(list2)"
      ],
      "execution_count": null,
      "outputs": [
        {
          "output_type": "stream",
          "text": [
            "the dups in the list are: [1, 2]\n"
          ],
          "name": "stdout"
        }
      ]
    },
    {
      "cell_type": "markdown",
      "metadata": {
        "id": "zZVj2riQc-n8"
      },
      "source": [
        "C) write a function unique to find all the unique numbers in the list"
      ]
    },
    {
      "cell_type": "code",
      "metadata": {
        "colab": {
          "base_uri": "https://localhost:8080/"
        },
        "id": "T-a68w9QdImw",
        "outputId": "211f11bb-496c-4cb3-da0c-2aed587a583a"
      },
      "source": [
        " def unique(list1):\n",
        "  list2={}\n",
        " \n",
        "  for i in list1:\n",
        "    c=list1.count(i)\n",
        "    if c==1:\n",
        "      list2[i]=c\n",
        "  print(\"the unique elements in the list are:\",list2)\n",
        " \n",
        "list=[10,122,10,53,45,6,53,88,9]\n",
        "unique(list)"
      ],
      "execution_count": null,
      "outputs": [
        {
          "output_type": "stream",
          "text": [
            "the unique elements in the list are: {122: 1, 45: 1, 6: 1, 88: 1, 9: 1}\n"
          ],
          "name": "stdout"
        }
      ]
    },
    {
      "cell_type": "markdown",
      "metadata": {
        "id": "hfsmOoS3dhAz"
      },
      "source": [
        "Exercise-10"
      ]
    },
    {
      "cell_type": "markdown",
      "metadata": {
        "id": "CJR5kvgediwN"
      },
      "source": [
        " a)write a function cumulative product to compute cumulative product of a list of numbers"
      ]
    },
    {
      "cell_type": "code",
      "metadata": {
        "colab": {
          "base_uri": "https://localhost:8080/"
        },
        "id": "ZTtImHogKAQn",
        "outputId": "9dfbebee-29a4-4f03-fca2-e360da7cf6c1"
      },
      "source": [
        "def cumpro(list1):\n",
        "  pro=1\n",
        "  temp=[]\n",
        "  for i in list1:\n",
        "    pro*=i\n",
        "    temp.append(pro)\n",
        "  return temp\n",
        "list=[11,2,1,3,5]\n",
        "print (\"given list is\",list)\n",
        "print(\"cumulative product of given list is\",cumpro(list))"
      ],
      "execution_count": null,
      "outputs": [
        {
          "output_type": "stream",
          "text": [
            "given list is [11, 2, 1, 3, 5]\n",
            "cumulative product of given list is [11, 22, 22, 66, 330]\n"
          ],
          "name": "stdout"
        }
      ]
    },
    {
      "cell_type": "markdown",
      "metadata": {
        "id": "Edtzz6NbK8LV"
      },
      "source": [
        "b)Write a function reverse to reverse a list without using reverse function"
      ]
    },
    {
      "cell_type": "code",
      "metadata": {
        "colab": {
          "base_uri": "https://localhost:8080/"
        },
        "id": "ea9IN_o2LHlI",
        "outputId": "1dc36984-2000-4a48-cdd5-d1418c74afbb"
      },
      "source": [
        " def reverse_list(numlist):\n",
        "    temp=list1[::-1]\n",
        "    numlist=temp\n",
        "    return temp\n",
        "list1=[31,12,23,49]\n",
        "print(\"given list is :\",list1)\n",
        "print(\"after reverse function:\",reverse_list(list1))\n",
        "print(\"after list is:\",list1)"
      ],
      "execution_count": null,
      "outputs": [
        {
          "output_type": "stream",
          "text": [
            "given list is : [31, 12, 23, 49]\n",
            "after reverse function: [49, 23, 12, 31]\n",
            "after list is: [31, 12, 23, 49]\n"
          ],
          "name": "stdout"
        }
      ]
    },
    {
      "cell_type": "markdown",
      "metadata": {
        "id": "tPL3WQFsLXWc"
      },
      "source": [
        "C)Write a function to compute GCD,LCM of two numbers . Each function shouldn't exceed one line."
      ]
    },
    {
      "cell_type": "code",
      "metadata": {
        "colab": {
          "base_uri": "https://localhost:8080/"
        },
        "id": "3HQHCfvOLmkc",
        "outputId": "ad3ca63d-7b3b-48da-914a-be040f6f8408"
      },
      "source": [
        " gcd=lambda a,b: a if b==0 else gcd(a,a%b)\n",
        "lcm=lambda a,b: (a*b)/gcd(a,b)\n",
        " \n",
        "x=8\n",
        "y=40\n",
        "print(\"gcd=\",gcd(x,y))\n",
        "print(\"lcm=\",lcm(x,y))"
      ],
      "execution_count": null,
      "outputs": [
        {
          "output_type": "stream",
          "text": [
            "gcd= 8\n",
            "lcm= 40.0\n"
          ],
          "name": "stdout"
        }
      ]
    },
    {
      "cell_type": "markdown",
      "metadata": {
        "id": "MyOOI5dBxAnZ"
      },
      "source": [
        "Exercise-11"
      ]
    },
    {
      "cell_type": "markdown",
      "metadata": {
        "id": "hoz1jWXGxCN6"
      },
      "source": [
        "A) Write a program that defines a matrix and prints"
      ]
    },
    {
      "cell_type": "markdown",
      "metadata": {
        "id": "Mg8RTi5pxNGg"
      },
      "source": [
        "B) Write a program to perform addition of two square matrices"
      ]
    },
    {
      "cell_type": "markdown",
      "metadata": {
        "id": "1w2S-R6fxVpG"
      },
      "source": [
        "C)Write a program to perform multiplication of two square matrices"
      ]
    },
    {
      "cell_type": "code",
      "metadata": {
        "colab": {
          "base_uri": "https://localhost:8080/"
        },
        "id": "u4zAB9G5xjC_",
        "outputId": "c3ef1d6e-e966-423a-dbe3-ac16d3b7746d"
      },
      "source": [
        " #11A.\n",
        "matA=[[]]\n",
        "rows=int(input(\"enter no of rows\"))\n",
        "colms=int(input(\"enter colms\"))\n",
        "matA=[[int(input(\"enter  [%d,%d] value :\"%(i,j)))for j in range(colms)]for i in range(rows)]\n",
        "print(\"matrix is\\n\")\n",
        " \n",
        "for i in range(rows):\n",
        "  for j in range(colms):\n",
        "    print(matA[i][j],end=\"\\t\")\n",
        "  print()"
      ],
      "execution_count": null,
      "outputs": [
        {
          "output_type": "stream",
          "text": [
            "enter no of rows2\n",
            "enter colms2\n",
            "enter  [0,0] value :1\n",
            "enter  [0,1] value :3\n",
            "enter  [1,0] value :2\n",
            "enter  [1,1] value :7\n",
            "matrix is\n",
            "\n",
            "1\t3\t\n",
            "2\t7\t\n"
          ],
          "name": "stdout"
        }
      ]
    },
    {
      "cell_type": "code",
      "metadata": {
        "colab": {
          "base_uri": "https://localhost:8080/"
        },
        "id": "_pShXo5jxzZb",
        "outputId": "6154eae2-f76a-4234-80fe-b56d545e6bde"
      },
      "source": [
        " #11B.\n",
        "def mat_read(rows,cols):\n",
        "    mat=[[int(input(\"Enter the mat[%d,%d] value \"%(i,j)))for j in range(cols)]for i in range (rows)]\n",
        "    return mat\n",
        "def print_mat(rows,cols,mat):\n",
        "    for i in range(rows):\n",
        "        for j in range (cols):\n",
        "            print(mat[i][j],end='\\t')\n",
        "        print()\n",
        "    \n",
        "matA=[[]]\n",
        "matB=[[]]\n",
        "mat_sum=[[]]\n",
        " \n",
        " \n",
        "rows=int(input(\"Enter the row size \"))\n",
        "cols=int(input(\"Enter the column size \"))\n",
        " \n",
        "if(rows==cols):\n",
        "    print(\"For matrix A\")\n",
        "    matA=mat_read(rows,cols)\n",
        "    \n",
        "    print(\"For matrix B\")\n",
        "    matB=mat_read(rows,cols)\n",
        "    \n",
        "    mat_sum=[[matA[i][j]+matB[i][j] for j in range(cols)]for i in range (rows)]\n",
        " \n",
        "    print(\"Matrix A \")\n",
        "    print_mat(rows,cols,matA)\n",
        "    \n",
        "    print(\"Matrix B \")\n",
        "    print_mat(rows,cols,matB)\n",
        "    \n",
        "    print(\"Matrix A+B = \")\n",
        "    print_mat(rows,cols,mat_sum)\n",
        "else:\n",
        "    print(\"Matrix Addition is not possible\")"
      ],
      "execution_count": null,
      "outputs": [
        {
          "output_type": "stream",
          "text": [
            "Enter the row size 2\n",
            "Enter the column size 2\n",
            "For matrix A\n",
            "Enter the mat[0,0] value 1\n",
            "Enter the mat[0,1] value 2\n",
            "Enter the mat[1,0] value 3\n",
            "Enter the mat[1,1] value 4\n",
            "For matrix B\n",
            "Enter the mat[0,0] value 5\n",
            "Enter the mat[0,1] value 6\n",
            "Enter the mat[1,0] value 7\n",
            "Enter the mat[1,1] value 8\n",
            "Matrix A \n",
            "1\t2\t\n",
            "3\t4\t\n",
            "Matrix B \n",
            "5\t6\t\n",
            "7\t8\t\n",
            "Matrix A+B = \n",
            "6\t8\t\n",
            "10\t12\t\n"
          ],
          "name": "stdout"
        }
      ]
    },
    {
      "cell_type": "code",
      "metadata": {
        "colab": {
          "base_uri": "https://localhost:8080/"
        },
        "id": "-lgD580ZyI79",
        "outputId": "1ce2441f-9b23-4b18-813a-1b8832b76ca2"
      },
      "source": [
        " #11C.\n",
        "def mat_read(rows,cols):\n",
        "    mat=[[int(input(\"Enter the mat[%d,%d] value \"%(i,j)))for j in range(cols)]for i in range (rows)]\n",
        "    return mat\n",
        "def print_mat(rows,cols,mat):\n",
        "    for i in range(rows):\n",
        "        for j in range (cols):\n",
        "            print(mat[i][j],end='\\t')\n",
        "        print()\n",
        "    \n",
        "matA=[[]]\n",
        "matB=[[]]\n",
        "mat_mul=[[]]\n",
        " \n",
        " \n",
        "rows=int(input(\"Enter the row size \"))\n",
        "cols=int(input(\"Enter the column size \"))\n",
        " \n",
        "if(rows==cols):\n",
        "    print(\"For matrix A\")\n",
        "    matA=mat_read(rows,cols)\n",
        "    \n",
        "    print(\"For matrix B\")\n",
        "    matB=mat_read(rows,cols)\n",
        "    \n",
        "    mat_mul=[[0 for j in range(cols)]for i in range (rows)]\n",
        " \n",
        "    for i in range (rows):\n",
        "        for j in range(cols):\n",
        "            for k in range(cols):\n",
        "                mat_mul[i][j]+=matA[i][k]*matB[k][j]\n",
        " \n",
        "    print(\"Matrix A \")\n",
        "    print_mat(rows,cols,matA)\n",
        "    \n",
        "    print(\"Matrix B \")\n",
        "    print_mat(rows,cols,matB)\n",
        "    \n",
        "    print(\"Matrix A*B = \")\n",
        "    print_mat(rows,cols,mat_mul)\n",
        "else:\n",
        "    print(\"Matrix multiplication is not possible\")"
      ],
      "execution_count": null,
      "outputs": [
        {
          "output_type": "stream",
          "text": [
            "Enter the row size 2\n",
            "Enter the column size 2\n",
            "For matrix A\n",
            "Enter the mat[0,0] value 1\n",
            "Enter the mat[0,1] value 2\n",
            "Enter the mat[1,0] value 3\n",
            "Enter the mat[1,1] value 4\n",
            "For matrix B\n",
            "Enter the mat[0,0] value 5\n",
            "Enter the mat[0,1] value 6\n",
            "Enter the mat[1,0] value 7\n",
            "Enter the mat[1,1] value 8\n",
            "Matrix A \n",
            "1\t2\t\n",
            "3\t4\t\n",
            "Matrix B \n",
            "5\t6\t\n",
            "7\t8\t\n",
            "Matrix A*B = \n",
            "19\t22\t\n",
            "43\t50\t\n"
          ],
          "name": "stdout"
        }
      ]
    },
    {
      "cell_type": "markdown",
      "metadata": {
        "id": "u-zbRhsHywjW"
      },
      "source": [
        "Exercise:12"
      ]
    },
    {
      "cell_type": "markdown",
      "metadata": {
        "id": "y-CFnCliyx6k"
      },
      "source": [
        "A)Install package requests,flask and explore them using (PIP)"
      ]
    },
    {
      "cell_type": "markdown",
      "metadata": {
        "id": "1SsoDhgMy_iQ"
      },
      "source": [
        "B)write a script that imports requests and fetch contents from page.Eg:(wiki)"
      ]
    },
    {
      "cell_type": "markdown",
      "metadata": {
        "id": "Va5rSgm4zL5H"
      },
      "source": [
        "C)write a simple script that serves a simple http response and a simple html page"
      ]
    },
    {
      "cell_type": "markdown",
      "metadata": {
        "id": "724BXtArzfX9"
      },
      "source": [
        "12A"
      ]
    },
    {
      "cell_type": "markdown",
      "metadata": {
        "id": "Q1YT6pkGzglM"
      },
      "source": [
        " The requests and flask packages are download from internet using the following commands.\n",
        " \n",
        "C:\\python3.9\\scripts>pip install requests \n",
        " \n",
        "C:\\python3.9\\scripts>pip show requests \n",
        "C:\\python3.9\\scripts>pip install flask \n",
        "C:\\python3.9\\scripts>pip show flask"
      ]
    },
    {
      "cell_type": "code",
      "metadata": {
        "colab": {
          "base_uri": "https://localhost:8080/"
        },
        "id": "WwI1wMY20nJ6",
        "outputId": "f6e04b7a-0542-444f-ac7d-006f3eea1530"
      },
      "source": [
        " #12B.\n",
        "import requests\n",
        "r=requests.get('https://www.google.com')\n",
        "print(\"status coed:\",r.status_code)\n",
        "print(\"header content:\",r.headers['content-type'])\n",
        "print(r.text)"
      ],
      "execution_count": null,
      "outputs": [
        {
          "output_type": "stream",
          "text": [
            "status coed: 200\n",
            "header content: text/html; charset=ISO-8859-1\n",
            "<!doctype html><html itemscope=\"\" itemtype=\"http://schema.org/WebPage\" lang=\"zh-TW\"><head><meta content=\"text/html; charset=UTF-8\" http-equiv=\"Content-Type\"><meta content=\"/images/branding/googleg/1x/googleg_standard_color_128dp.png\" itemprop=\"image\"><title>Google</title><script nonce=\"gcJFoVBU4CCBzIQXbnGYhg==\">(function(){window.google={kEI:'Ib32YJDnJsqbmAWgh4LwAg',kEXPI:'0,772215,1,530320,56873,954,756,4349,206,2414,2390,2316,383,246,5,304,1050,5250,1122516,1197733,550,328984,51223,16115,28684,17572,4859,1361,9291,3022,17586,4998,13228,3847,4192,6430,14527,4518,2777,919,5081,889,704,1279,2212,530,149,1103,840,1030,953,4314,3514,606,2023,1777,520,14670,3227,2845,7,4773,826,6755,5096,7877,5036,3407,908,2,940,2615,3784,9358,3,346,230,6459,149,12314,1661,4,1528,2304,1236,5226,5260,2015,4067,9544,4764,2658,4243,2458,654,32,13628,2305,638,1494,5586,3772,6763,665,5827,2302,228,4094,20,3118,6,908,3,3541,1,14262,448,1814,283,912,5992,12526,2,1394,2806,1343,372,2,3057,2538,2,1,3,8421,617,722,592,1532,2470,550,1166,615,1274,4578,1576,3,472,1646,173,1000,1716,17,2802,16,2,442,598,1160,1269,3426,2,1712,290,299,144,1031,247,660,2719,2985,1560,3,123,748,3857,745,1461,2432,16,1,725,586,237,225,1898,640,2,6,83,2,6,24,499,1685,119,396,70,896,2,1,1024,5,56,70,899,884,626,425,470,85,51,275,246,315,333,158,190,145,745,94,835,277,295,55,1382,214,310,75,1186,2,294,396,1854,468,1317,292,560,3064,1475,5610124,226,220,59,2,5996808,2800696,882,444,1,2,80,1,1796,1,9,2,2551,1,748,141,795,563,1,4265,1,1,2,1331,3299,843,2609,155,17,13,72,139,4,2,20,2,169,13,19,46,5,39,96,548,29,2,2,1,2,1,2,2,7,4,1,2,2,2,2,2,2,312,41,513,186,1,1,158,3,2,2,2,2,2,4,2,3,3,233,36,21,38,1874713,21780086,299864,4041352,338,3,2340,74,906,7,95,1781',kBL:'rUkx'};google.sn='webhp';google.kHL='zh-TW';})();(function(){\n",
            "var f=this||self;var h,k=[];function l(a){for(var b;a&&(!a.getAttribute||!(b=a.getAttribute(\"eid\")));)a=a.parentNode;return b||h}function m(a){for(var b=null;a&&(!a.getAttribute||!(b=a.getAttribute(\"leid\")));)a=a.parentNode;return b}\n",
            "function n(a,b,c,d,g){var e=\"\";c||-1!==b.search(\"&ei=\")||(e=\"&ei=\"+l(d),-1===b.search(\"&lei=\")&&(d=m(d))&&(e+=\"&lei=\"+d));d=\"\";!c&&f._cshid&&-1===b.search(\"&cshid=\")&&\"slh\"!==a&&(d=\"&cshid=\"+f._cshid);c=c||\"/\"+(g||\"gen_204\")+\"?atyp=i&ct=\"+a+\"&cad=\"+b+e+\"&zx=\"+Date.now()+d;/^http:/i.test(c)&&\"https:\"===window.location.protocol&&(google.ml&&google.ml(Error(\"a\"),!1,{src:c,glmm:1}),c=\"\");return c};h=google.kEI;google.getEI=l;google.getLEI=m;google.ml=function(){return null};google.log=function(a,b,c,d,g){if(c=n(a,b,c,d,g)){a=new Image;var e=k.length;k[e]=a;a.onerror=a.onload=a.onabort=function(){delete k[e]};a.src=c}};google.logUrl=n;}).call(this);(function(){\n",
            "google.y={};google.sy=[];google.x=function(a,b){if(a)var c=a.id;else{do c=Math.random();while(google.y[c])}google.y[c]=[a,b];return!1};google.sx=function(a){google.sy.push(a)};google.lm=[];google.plm=function(a){google.lm.push.apply(google.lm,a)};google.lq=[];google.load=function(a,b,c){google.lq.push([[a],b,c])};google.loadAll=function(a,b){google.lq.push([a,b])};google.bx=!1;google.lx=function(){};}).call(this);google.f={};(function(){\n",
            "document.documentElement.addEventListener(\"submit\",function(b){var a;if(a=b.target){var c=a.getAttribute(\"data-submitfalse\");a=\"1\"==c||\"q\"==c&&!a.elements.q.value?!0:!1}else a=!1;a&&(b.preventDefault(),b.stopPropagation())},!0);document.documentElement.addEventListener(\"click\",function(b){var a;a:{for(a=b.target;a&&a!=document.documentElement;a=a.parentElement)if(\"A\"==a.tagName){a=\"1\"==a.getAttribute(\"data-nohref\");break a}a=!1}a&&b.preventDefault()},!0);}).call(this);</script><style>#gbar,#guser{font-size:13px;padding-top:1px !important;}#gbar{height:22px}#guser{padding-bottom:7px !important;text-align:right}.gbh,.gbd{border-top:1px solid #c9d7f1;font-size:1px}.gbh{height:0;position:absolute;top:24px;width:100%}@media all{.gb1{height:22px;margin-right:.5em;vertical-align:top}#gbar{float:left}}a.gb1,a.gb4{text-decoration:underline !important}a.gb1,a.gb4{color:#00c !important}.gbi .gb4{color:#dd8e27 !important}.gbf .gb4{color:#900 !important}\n",
            "</style><style>body,td,a,p,.h{font-family:arial,sans-serif}body{margin:0;overflow-y:scroll}#gog{padding:3px 8px 0}td{line-height:.8em}.gac_m td{line-height:17px}form{margin-bottom:20px}.h{color:#1558d6}em{color:#c5221f;font-style:normal;font-weight:normal}a em{text-decoration:underline}.lst{height:25px;width:496px}.gsfi,.lst{font:18px arial,sans-serif}.gsfs{font:17px arial,sans-serif}.ds{display:inline-box;display:inline-block;margin:3px 0 4px;margin-left:4px}input{font-family:inherit}body{background:#fff;color:#000}a{color:#4b11a8;text-decoration:none}a:hover,a:active{text-decoration:underline}.fl a{color:#1558d6}a:visited{color:#4b11a8}.sblc{padding-top:5px}.sblc a{display:block;margin:2px 0;margin-left:13px;font-size:11px}.lsbb{background:#f8f9fa;border:solid 1px;border-color:#dadce0 #70757a #70757a #dadce0;height:30px}.lsbb{display:block}#WqQANb a{display:inline-block;margin:0 12px}.lsb{background:url(/images/nav_logo229.png) 0 -261px repeat-x;border:none;color:#000;cursor:pointer;height:30px;margin:0;outline:0;font:15px arial,sans-serif;vertical-align:top}.lsb:active{background:#dadce0}.lst:focus{outline:none}</style><script nonce=\"gcJFoVBU4CCBzIQXbnGYhg==\"></script></head><body bgcolor=\"#fff\"><script nonce=\"gcJFoVBU4CCBzIQXbnGYhg==\">(function(){var src='/images/nav_logo229.png';var iesg=false;document.body.onload = function(){window.n && window.n();if (document.images){new Image().src=src;}\n",
            "if (!iesg){document.f&&document.f.q.focus();document.gbqf&&document.gbqf.q.focus();}\n",
            "}\n",
            "})();</script><div id=\"mngb\"><div id=gbar><nobr><b class=gb1>&#25628;&#23563;</b> <a class=gb1 href=\"https://www.google.com.tw/imghp?hl=zh-TW&tab=wi\">&#22294;&#29255;</a> <a class=gb1 href=\"https://maps.google.com.tw/maps?hl=zh-TW&tab=wl\">&#22320;&#22294;</a> <a class=gb1 href=\"https://play.google.com/?hl=zh-TW&tab=w8\">Play</a> <a class=gb1 href=\"https://www.youtube.com/?gl=TW&tab=w1\">YouTube</a> <a class=gb1 href=\"https://news.google.com/?tab=wn\">&#26032;&#32862;</a> <a class=gb1 href=\"https://mail.google.com/mail/?tab=wm\">Gmail</a> <a class=gb1 href=\"https://drive.google.com/?tab=wo\">&#38642;&#31471;&#30828;&#30879;</a> <a class=gb1 style=\"text-decoration:none\" href=\"https://www.google.com.tw/intl/zh-TW/about/products?tab=wh\"><u>&#26356;&#22810;</u> &raquo;</a></nobr></div><div id=guser width=100%><nobr><span id=gbn class=gbi></span><span id=gbf class=gbf></span><span id=gbe></span><a href=\"http://www.google.com.tw/history/optout?hl=zh-TW\" class=gb4>&#32178;&#38913;&#35352;&#37636;</a> | <a  href=\"/preferences?hl=zh-TW\" class=gb4>&#35373;&#23450;</a> | <a target=_top id=gb_70 href=\"https://accounts.google.com/ServiceLogin?hl=zh-TW&passive=true&continue=https://www.google.com/&ec=GAZAAQ\" class=gb4>&#30331;&#20837;</a></nobr></div><div class=gbh style=left:0></div><div class=gbh style=right:0></div></div><center><br clear=\"all\" id=\"lgpd\"><div id=\"lga\"><img alt=\"Google\" height=\"92\" src=\"/images/branding/googlelogo/1x/googlelogo_white_background_color_272x92dp.png\" style=\"padding:28px 0 14px\" width=\"272\" id=\"hplogo\"><br><br></div><form action=\"/search\" name=\"f\"><table cellpadding=\"0\" cellspacing=\"0\"><tr valign=\"top\"><td width=\"25%\">&nbsp;</td><td align=\"center\" nowrap=\"\"><input name=\"ie\" value=\"ISO-8859-1\" type=\"hidden\"><input value=\"zh-TW\" name=\"hl\" type=\"hidden\"><input name=\"source\" type=\"hidden\" value=\"hp\"><input name=\"biw\" type=\"hidden\"><input name=\"bih\" type=\"hidden\"><div class=\"ds\" style=\"height:32px;margin:4px 0\"><input class=\"lst\" style=\"margin:0;padding:5px 8px 0 6px;vertical-align:top;color:#000\" autocomplete=\"off\" value=\"\" title=\"Google &#25628;&#23563;\" maxlength=\"2048\" name=\"q\" size=\"57\"></div><br style=\"line-height:0\"><span class=\"ds\"><span class=\"lsbb\"><input class=\"lsb\" value=\"Google &#25628;&#23563;\" name=\"btnG\" type=\"submit\"></span></span><span class=\"ds\"><span class=\"lsbb\"><input class=\"lsb\" id=\"tsuid1\" value=\"&#22909;&#25163;&#27683;\" name=\"btnI\" type=\"submit\"><script nonce=\"gcJFoVBU4CCBzIQXbnGYhg==\">(function(){var id='tsuid1';document.getElementById(id).onclick = function(){if (this.form.q.value){this.checked = 1;if (this.form.iflsig)this.form.iflsig.disabled = false;}\n",
            "else top.location='/doodles/';};})();</script><input value=\"AINFCbYAAAAAYPbLMRZ6NK-bGeWZ3p9kftsuoMtPmtSK\" name=\"iflsig\" type=\"hidden\"></span></span></td><td class=\"fl sblc\" align=\"left\" nowrap=\"\" width=\"25%\"><a href=\"/advanced_search?hl=zh-TW&amp;authuser=0\">&#36914;&#38542;&#25628;&#23563;</a></td></tr></table><input id=\"gbv\" name=\"gbv\" type=\"hidden\" value=\"1\"><script nonce=\"gcJFoVBU4CCBzIQXbnGYhg==\">(function(){\n",
            "var a,b=\"1\";if(document&&document.getElementById)if(\"undefined\"!=typeof XMLHttpRequest)b=\"2\";else if(\"undefined\"!=typeof ActiveXObject){var c,d,e=[\"MSXML2.XMLHTTP.6.0\",\"MSXML2.XMLHTTP.3.0\",\"MSXML2.XMLHTTP\",\"Microsoft.XMLHTTP\"];for(c=0;d=e[c++];)try{new ActiveXObject(d),b=\"2\"}catch(h){}}a=b;if(\"2\"==a&&-1==location.search.indexOf(\"&gbv=2\")){var f=google.gbvu,g=document.getElementById(\"gbv\");g&&(g.value=a);f&&window.setTimeout(function(){location.href=f},0)};}).call(this);</script></form><div id=\"gac_scont\"></div><div style=\"font-size:83%;min-height:3.5em\"><br></div><span id=\"footer\"><div style=\"font-size:10pt\"><div style=\"margin:19px auto;text-align:center\" id=\"WqQANb\"><a href=\"/intl/zh-TW/ads/\">&#24291;&#21578;&#26381;&#21209;</a><a href=\"http://www.google.com.tw/intl/zh-TW/services/\">&#21830;&#26989;&#35299;&#27770;&#26041;&#26696;</a><a href=\"/intl/zh-TW/about.html\">&#38364;&#26044; Google</a><a href=\"https://www.google.com/setprefdomain?prefdom=TW&amp;prev=https://www.google.com.tw/&amp;sig=K_JjIA2SH1F1ZOJZymjShLxsvPkr4%3D\">Google.com.tw</a></div></div><p style=\"font-size:8pt;color:#70757a\">&copy; 2021 - <a href=\"/intl/zh-TW/policies/privacy/\">&#38577;&#31169;&#27402;</a> - <a href=\"/intl/zh-TW/policies/terms/\">&#26381;&#21209;&#26781;&#27454;</a></p></span></center><script nonce=\"gcJFoVBU4CCBzIQXbnGYhg==\">(function(){window.google.cdo={height:757,width:1440};(function(){\n",
            "var a=window.innerWidth,b=window.innerHeight;if(!a||!b){var c=window.document,d=\"CSS1Compat\"==c.compatMode?c.documentElement:c.body;a=d.clientWidth;b=d.clientHeight}a&&b&&(a!=google.cdo.width||b!=google.cdo.height)&&google.log(\"\",\"\",\"/client_204?&atyp=i&biw=\"+a+\"&bih=\"+b+\"&ei=\"+google.kEI);}).call(this);})();</script> <script nonce=\"gcJFoVBU4CCBzIQXbnGYhg==\">(function(){google.xjs={ck:'',cs:'',excm:[],pml:false};})();</script>  <script nonce=\"gcJFoVBU4CCBzIQXbnGYhg==\">(function(){var u='/xjs/_/js/k\\x3dxjs.hp.en.uG5gNub4OSM.O/m\\x3dsb_he,d/am\\x3dAHgCLA/d\\x3d1/ed\\x3d1/rs\\x3dACT90oFL0_2LwcQeUzXQMlVynx5KmR4twQ';\n",
            "var e=this||self,f=function(a){return a};var g;var l=function(a,b){this.g=b===h?a:\"\"};l.prototype.toString=function(){return this.g+\"\"};var h={};function m(){var a=u;google.lx=function(){n(a);google.lx=function(){}};google.bx||google.lx()}\n",
            "function n(a){google.timers&&google.timers.load&&google.tick&&google.tick(\"load\",\"xjsls\");var b=document;var c=\"SCRIPT\";\"application/xhtml+xml\"===b.contentType&&(c=c.toLowerCase());c=b.createElement(c);if(void 0===g){b=null;var k=e.trustedTypes;if(k&&k.createPolicy){try{b=k.createPolicy(\"goog#html\",{createHTML:f,createScript:f,createScriptURL:f})}catch(p){e.console&&e.console.error(p.message)}g=b}else g=b}a=(b=g)?b.createScriptURL(a):a;a=new l(a,h);c.src=a instanceof l&&a.constructor===l?a.g:\"type_error:TrustedResourceUrl\";var d;a=(c.ownerDocument&&c.ownerDocument.defaultView||window).document;(d=(a=null===(d=a.querySelector)||void 0===d?void 0:d.call(a,\"script[nonce]\"))?a.nonce||a.getAttribute(\"nonce\")||\"\":\"\")&&c.setAttribute(\"nonce\",d);document.body.appendChild(c);google.psa=!0};setTimeout(function(){m()},0);})();(function(){window.google.xjsu='/xjs/_/js/k\\x3dxjs.hp.en.uG5gNub4OSM.O/m\\x3dsb_he,d/am\\x3dAHgCLA/d\\x3d1/ed\\x3d1/rs\\x3dACT90oFL0_2LwcQeUzXQMlVynx5KmR4twQ';})();function _DumpException(e){throw e;}\n",
            "function _F_installCss(c){}\n",
            "(function(){google.jl={attn:false,blt:'none',chnk:0,dw:false,emtn:0,end:0,ine:false,lls:'default',pdt:0,rep:0,snet:true,strt:0,ubm:false,uwp:true};})();(function(){var pmc='{\\x22d\\x22:{},\\x22sb_he\\x22:{\\x22agen\\x22:true,\\x22cgen\\x22:true,\\x22client\\x22:\\x22heirloom-hp\\x22,\\x22dh\\x22:true,\\x22dhqt\\x22:true,\\x22ds\\x22:\\x22\\x22,\\x22ffql\\x22:\\x22zh-TW\\x22,\\x22fl\\x22:true,\\x22host\\x22:\\x22google.com\\x22,\\x22isbh\\x22:28,\\x22jsonp\\x22:true,\\x22msgs\\x22:{\\x22cibl\\x22:\\x22&#28165;&#38500;&#25628;&#23563;\\x22,\\x22dym\\x22:\\x22&#24744;&#26159;&#19981;&#26159;&#35201;&#26597;&#65306;\\x22,\\x22lcky\\x22:\\x22&#22909;&#25163;&#27683;\\x22,\\x22lml\\x22:\\x22&#30637;&#35299;&#35443;&#24773;\\x22,\\x22oskt\\x22:\\x22&#36664;&#20837;&#24037;&#20855;\\x22,\\x22psrc\\x22:\\x22&#24050;&#24478;&#24744;&#30340;&#12300;\\\\u003Ca href\\x3d\\\\\\x22/history\\\\\\x22\\\\u003E&#32178;&#38913;&#35352;&#37636;\\\\u003C/a\\\\u003E&#12301;&#20013;&#31227;&#38500;&#36889;&#31558;&#25628;&#23563;&#35352;&#37636;\\x22,\\x22psrl\\x22:\\x22&#31227;&#38500;\\x22,\\x22sbit\\x22:\\x22&#20197;&#22294;&#25628;&#23563;\\x22,\\x22srch\\x22:\\x22Google &#25628;&#23563;\\x22},\\x22ovr\\x22:{},\\x22pq\\x22:\\x22\\x22,\\x22refpd\\x22:true,\\x22refspre\\x22:true,\\x22rfs\\x22:[],\\x22sbas\\x22:\\x220 3px 8px 0 rgba(0,0,0,0.2),0 0 0 1px rgba(0,0,0,0.08)\\x22,\\x22sbpl\\x22:16,\\x22sbpr\\x22:16,\\x22scd\\x22:10,\\x22stok\\x22:\\x22zdD2GrDlFm24RhybnIkKCfyJhag\\x22,\\x22uhde\\x22:false}}';google.pmc=JSON.parse(pmc);})();</script>        </body></html>\n"
          ],
          "name": "stdout"
        }
      ]
    },
    {
      "cell_type": "code",
      "metadata": {
        "colab": {
          "base_uri": "https://localhost:8080/"
        },
        "id": "jO9Pop7_0chc",
        "outputId": "ac21801c-dada-4165-8f83-a5668a10fc8f"
      },
      "source": [
        " #12C.\n",
        "from flask import Flask,render_template\n",
        "app=Flask(__name__)\n",
        "print(app)\n",
        "@app.route(\"/\")\n",
        "def main():\n",
        "  return render_template('login.html')\n",
        "  if __name__==\"__main__\":\n",
        "    app.run(host=\"127.0.0.1\",port=2500)"
      ],
      "execution_count": null,
      "outputs": [
        {
          "output_type": "stream",
          "text": [
            "<Flask '__main__'>\n"
          ],
          "name": "stdout"
        }
      ]
    },
    {
      "cell_type": "markdown",
      "metadata": {
        "id": "Wi4s33Xa08LB"
      },
      "source": [
        "Exercise -13"
      ]
    },
    {
      "cell_type": "markdown",
      "metadata": {
        "id": "Ns02qO3g09y4"
      },
      "source": [
        "A)Class variables and instance variable and illustration of the self variable ."
      ]
    },
    {
      "cell_type": "markdown",
      "metadata": {
        "id": "Ka1xevHs1JcZ"
      },
      "source": [
        " 1)Robot 2)ATM machine"
      ]
    },
    {
      "cell_type": "code",
      "metadata": {
        "colab": {
          "base_uri": "https://localhost:8080/"
        },
        "id": "Jt52knsU1O5C",
        "outputId": "1a66268e-8ec8-448a-8db0-c69cb90c18b6"
      },
      "source": [
        " #13.i)\n",
        "class Robot:\n",
        "  what=\"machine\"\n",
        "  name=\"chitti\"\n",
        "  version=1.0\n",
        "  speed=\"1THz\"\n",
        "  memory=\"1ZB\"\n",
        " \n",
        "  def update(upd):\n",
        "    upd.version=2.0\n",
        "    upd.speed=\"2THz\"\n",
        "    memory=\"2ZB\"\n",
        " \n",
        "  def disp(self):\n",
        "    print(\"My self is a\",robj.what)\n",
        "    print(\"my name is a\",robj.name)\n",
        "    print(\"version:\",robj.version)\n",
        "    print(\"speed:\",robj.speed)\n",
        "    print(\"memory:\",robj.memory)\n",
        " \n",
        "robj=Robot()\n",
        "robj.disp()\n",
        "print(\"--------Update-----------\")\n",
        "robj.update()\n",
        "robj.disp()"
      ],
      "execution_count": null,
      "outputs": [
        {
          "output_type": "stream",
          "text": [
            "My self is a machine\n",
            "my name is a chitti\n",
            "version: 1.0\n",
            "speed: 1THz\n",
            "memory: 1ZB\n",
            "--------Update-----------\n",
            "My self is a machine\n",
            "my name is a chitti\n",
            "version: 2.0\n",
            "speed: 2THz\n",
            "memory: 1ZB\n"
          ],
          "name": "stdout"
        }
      ]
    },
    {
      "cell_type": "code",
      "metadata": {
        "colab": {
          "base_uri": "https://localhost:8080/"
        },
        "id": "klgrZKeG1XTe",
        "outputId": "b4f460e1-c6d2-4e35-baf0-84f62ef68a49"
      },
      "source": [
        " #13.ii)\n",
        "class ATM:\n",
        "  def __init__(self):\n",
        "    self.balance=0\n",
        "  \n",
        "  def enquire(self):\n",
        "    print(\"balance is:\",self.balance)\n",
        " \n",
        "  def deposit(self):\n",
        "    amount=int(input(\"enter amount to depposit:\"))\n",
        "    self.balance+=amount\n",
        "    self.enquire()\n",
        " \n",
        "  def withdraw(self):\n",
        "    amount=int(input(\"enter amount to withdraw:\"))\n",
        "    if self.balance<amount:\n",
        "      print(\"ammount is insufficient\")\n",
        "    else:\n",
        "      self.balance-=amount\n",
        "      self.enquire()\n",
        "obj=ATM()\n",
        "while(True):\n",
        "  print(\"****MENU*****\")\n",
        "  print(\"1.deposit\")\n",
        "  print(\"2.withdraw\")\n",
        "  print(\"3.Balance\")\n",
        "  print(\"0.exit\")\n",
        "  ch=int(input(\"enter your choice\"))\n",
        "  if ch==0:\n",
        "    break\n",
        "  elif ch==1:\n",
        "    obj.deposit()\n",
        "  elif ch==2:\n",
        "    obj.withdraw()\n",
        "  elif ch==3:\n",
        "    obj.enquire()\n",
        "  else:\n",
        "    print(\"ivalid option\")\n",
        "    pass"
      ],
      "execution_count": null,
      "outputs": [
        {
          "output_type": "stream",
          "text": [
            "****MENU*****\n",
            "1.deposit\n",
            "2.withdraw\n",
            "3.Balance\n",
            "0.exit\n",
            "enter your choice1\n",
            "enter amount to depposit:1200\n",
            "balance is: 1200\n",
            "****MENU*****\n",
            "1.deposit\n",
            "2.withdraw\n",
            "3.Balance\n",
            "0.exit\n",
            "enter your choice2\n",
            "enter amount to withdraw:200\n",
            "balance is: 1000\n",
            "****MENU*****\n",
            "1.deposit\n",
            "2.withdraw\n",
            "3.Balance\n",
            "0.exit\n",
            "enter your choice3\n",
            "balance is: 1000\n",
            "****MENU*****\n",
            "1.deposit\n",
            "2.withdraw\n",
            "3.Balance\n",
            "0.exit\n",
            "enter your choice0\n"
          ],
          "name": "stdout"
        }
      ]
    },
    {
      "cell_type": "markdown",
      "metadata": {
        "id": "o9wDZw1C1rI0"
      },
      "source": [
        "Exercise 14"
      ]
    },
    {
      "cell_type": "markdown",
      "metadata": {
        "id": "wWj6kMfc1tO-"
      },
      "source": [
        " A) write an GUI for an expression calculator using TK"
      ]
    },
    {
      "cell_type": "markdown",
      "metadata": {
        "id": "1MpzdA9v2HXa"
      },
      "source": [
        "B) write a program to implement the following figures using turtle"
      ]
    },
    {
      "cell_type": "code",
      "metadata": {
        "id": "_5iRUnzs2PUF"
      },
      "source": [
        " \n",
        "#14A.\n",
        "from tkinter import *\n",
        " \n",
        "win = Tk() # to create a basic window\n",
        "win.geometry(\"312x324\")  #for the size of the window \n",
        "win.resizable(0, 0)  # to prevent from resizing the window\n",
        "win.title(\"Calculator\")\n",
        " \n",
        "# 'btn_click' Function continuously updates the \n",
        "# input field whenever you enters a number\n",
        " \n",
        "def btn_click(item):\n",
        "    global expression\n",
        "    expression = expression + str(item)\n",
        "    input_text.set(expression)\n",
        " \n",
        "# 'bt_clear' function : used to clear the input field\n",
        " \n",
        "def bt_clear(): \n",
        "    global expression \n",
        "    expression = \"\" \n",
        "    input_text.set(\"\")\n",
        " \n",
        "# 'bt_equal':calculates the expression present in input field\n",
        " \n",
        "def bt_equal():\n",
        "    global expression\n",
        "    result = str(eval(expression)) # 'eval':This function is used to evaluates the string expression directly\n",
        "    input_text.set(result)\n",
        "    expression = \"\"\n",
        " \n",
        "expression = \"\"\n",
        " \n",
        "# 'StringVar()' :used to get the instance of input field\n",
        " \n",
        "input_text = StringVar()\n",
        " \n",
        "# creating a frame for the input field\n",
        " \n",
        "input_frame = Frame(win, width=312, height=50, bd=0, highlightbackground=\"black\", highlightcolor=\"black\", highlightthickness=2)\n",
        " \n",
        "input_frame.pack(side=TOP)\n",
        " \n",
        "#create a input field inside the 'Frame'\n",
        " \n",
        "input_field = Entry(input_frame, font=('arial', 18, 'bold'), textvariable=input_text, width=50, bg=\"#eee\", bd=0, justify=RIGHT)\n",
        " \n",
        "input_field.grid(row=0, column=0)\n",
        " \n",
        "input_field.pack(ipady=10)\n",
        "# 'ipady' is internal padding to increase the height of input field\n",
        " \n",
        "#creating another 'Frame' for the button below the 'input_frame'\n",
        " \n",
        "btns_frame = Frame(win, width=312, height=272.5, bg=\"grey\")\n",
        " \n",
        "btns_frame.pack()\n",
        " \n",
        "# first row\n",
        " \n",
        "clear = Button(btns_frame, text = \"C\", fg = \"black\", width = 32, height = 3, bd = 0, bg = \"#eee\", cursor = \"hand2\", command = lambda: bt_clear()).grid(row = 0, column = 0, columnspan = 3, padx = 1, pady = 1)\n",
        " \n",
        "divide = Button(btns_frame, text = \"/\", fg = \"black\", width = 10, height = 3, bd = 0, bg = \"#eee\", cursor = \"hand2\", command = lambda: btn_click(\"/\")).grid(row = 0, column = 3, padx = 1, pady = 1)\n",
        " \n",
        "# second row\n",
        " \n",
        "seven = Button(btns_frame, text = \"7\", fg = \"black\", width = 10, height = 3, bd = 0, bg = \"#fff\", cursor = \"hand2\", command = lambda: btn_click(7)).grid(row = 1, column = 0, padx = 1, pady = 1)\n",
        " \n",
        "eight = Button(btns_frame, text = \"8\", fg = \"black\", width = 10, height = 3, bd = 0, bg = \"#fff\", cursor = \"hand2\", command = lambda: btn_click(8)).grid(row = 1, column = 1, padx = 1, pady = 1)\n",
        " \n",
        "nine = Button(btns_frame, text = \"9\", fg = \"black\", width = 10, height = 3, bd = 0, bg = \"#fff\", cursor = \"hand2\", command = lambda: btn_click(9)).grid(row = 1, column = 2, padx = 1, pady = 1)\n",
        " \n",
        "multiply = Button(btns_frame, text = \"\", fg = \"black\", width = 10, height = 3, bd = 0, bg = \"#eee\", cursor = \"hand2\", command = lambda: btn_click(\"\")).grid(row = 1, column = 3, padx = 1, pady = 1)\n",
        " \n",
        "# third row\n",
        " \n",
        "four = Button(btns_frame, text = \"4\", fg = \"black\", width = 10, height = 3, bd = 0, bg = \"#fff\", cursor = \"hand2\", command = lambda: btn_click(4)).grid(row = 2, column = 0, padx = 1, pady = 1)\n",
        " \n",
        "five = Button(btns_frame, text = \"5\", fg = \"black\", width = 10, height = 3, bd = 0, bg = \"#fff\", cursor = \"hand2\", command = lambda: btn_click(5)).grid(row = 2, column = 1, padx = 1, pady = 1)\n",
        " \n",
        "six = Button(btns_frame, text = \"6\", fg = \"black\", width = 10, height = 3, bd = 0, bg = \"#fff\", cursor = \"hand2\", command = lambda: btn_click(6)).grid(row = 2, column = 2, padx = 1, pady = 1)\n",
        " \n",
        "minus = Button(btns_frame, text = \"-\", fg = \"black\", width = 10, height = 3, bd = 0, bg = \"#eee\", cursor = \"hand2\", command = lambda: btn_click(\"-\")).grid(row = 2, column = 3, padx = 1, pady = 1)\n",
        " \n",
        "# fourth row\n",
        " \n",
        "one = Button(btns_frame, text = \"1\", fg = \"black\", width = 10, height = 3, bd = 0, bg = \"#fff\", cursor = \"hand2\", command = lambda: btn_click(1)).grid(row = 3, column = 0, padx = 1, pady = 1)\n",
        " \n",
        "two = Button(btns_frame, text = \"2\", fg = \"black\", width = 10, height = 3, bd = 0, bg = \"#fff\", cursor = \"hand2\", command = lambda: btn_click(2)).grid(row = 3, column = 1, padx = 1, pady = 1)\n",
        " \n",
        "three = Button(btns_frame, text = \"3\", fg = \"black\", width = 10, height = 3, bd = 0, bg = \"#fff\", cursor = \"hand2\", command = lambda: btn_click(3)).grid(row = 3, column = 2, padx = 1, pady = 1)\n",
        " \n",
        "plus = Button(btns_frame, text = \"+\", fg = \"black\", width = 10, height = 3, bd = 0, bg = \"#eee\", cursor = \"hand2\", command = lambda: btn_click(\"+\")).grid(row = 3, column = 3, padx = 1, pady = 1)\n",
        " \n",
        "# fifth row\n",
        " \n",
        "zero = Button(btns_frame, text = \"0\", fg = \"black\", width = 21, height = 3, bd = 0, bg = \"#fff\", cursor = \"hand2\", command = lambda: btn_click(0)).grid(row = 4, column = 0, columnspan = 2, padx = 1, pady = 1)\n",
        " \n",
        "point = Button(btns_frame, text = \".\", fg = \"black\", width = 10, height = 3, bd = 0, bg = \"#eee\", cursor = \"hand2\", command = lambda: btn_click(\".\")).grid(row = 4, column = 2, padx = 1, pady = 1)\n",
        " \n",
        "equals = Button(btns_frame, text = \"=\", fg = \"black\", width = 10, height = 3, bd = 0, bg = \"#eee\", cursor = \"hand2\", command = lambda: bt_equal()).grid(row = 4, column = 3, padx = 1, pady = 1)\n",
        " \n",
        "win.mainloop()"
      ],
      "execution_count": null,
      "outputs": []
    },
    {
      "cell_type": "code",
      "metadata": {
        "id": "q6mWEjN63PNB"
      },
      "source": [
        " #14B FIGURE1.\n",
        "import turtle\n",
        "c=[\"red\",\"green\",\"blue\"]\n",
        "i=0\n",
        "turtle.pensize(5)\n",
        " \n",
        "for angle in range(0,360,30):\n",
        "    if i>2:\n",
        "        i=0\n",
        "    turtle.color(c[i])\n",
        "    turtle.seth(angle)\n",
        "    turtle.circle(50)\n",
        "    i+=1"
      ],
      "execution_count": null,
      "outputs": []
    },
    {
      "cell_type": "code",
      "metadata": {
        "id": "eC_nusgs3agN"
      },
      "source": [
        " #14B FIGURE2.\n",
        "import turtle\n",
        "turtle.pensize(1)\n",
        " \n",
        "for i in range(36):\n",
        "    for j in range(4):\n",
        "        turtle.forward(70)\n",
        "        turtle.left(90)\n",
        "    turtle.left(10)"
      ],
      "execution_count": null,
      "outputs": []
    },
    {
      "cell_type": "markdown",
      "metadata": {
        "id": "T68_CDXv3jNw"
      },
      "source": [
        "Exercise:16"
      ]
    },
    {
      "cell_type": "markdown",
      "metadata": {
        "id": "JpAb8Q2Q3mQz"
      },
      "source": [
        "A)Build any one classical data structure"
      ]
    },
    {
      "cell_type": "markdown",
      "metadata": {
        "id": "P1ehq0Fg3uEc"
      },
      "source": [
        "B)write a program to solve knapsack problem"
      ]
    },
    {
      "cell_type": "code",
      "metadata": {
        "colab": {
          "base_uri": "https://localhost:8080/",
          "height": 744
        },
        "id": "0HhNsGy239n_",
        "outputId": "43f3e5d5-d3c1-40bd-ef06-5086f4be5b13"
      },
      "source": [
        " #16A.\n",
        "import sys\n",
        "a=[]\n",
        " \n",
        "while True:\n",
        "  print (\"\\nl.PUSH 2.POP 3.DISPLAY 4.EXIT\")\n",
        "  ch=int(input(\"Enter Your Choice: \"))\n",
        "  if ch==1:\n",
        "   ele=int(input(\"Enter element: \"))\n",
        "   a.append(ele)\n",
        "   print(\"Inserted\")\n",
        "  elif ch==2:\n",
        "   if len(a)==0:\n",
        "     print (\"\\t STACK IS EMPTY\")\n",
        "   else:\n",
        "     print (\"Deleted element is: \",a[len(a)-1])\n",
        "     a.remove(a[len(a)-1])\n",
        "  elif ch==3:\n",
        "   if len(a)==0:\n",
        "     print (\"\\t STACK IS EMPTY\")\n",
        "   else:\n",
        "    print (\"The Elements in Stack is: \")\n",
        "    for i in reversed(a):\n",
        "       print(i)\n",
        "  elif ch==4:\n",
        "    sys.exit()\n",
        "  else:\n",
        "   print (\"\\tINVALID CHOICE\")"
      ],
      "execution_count": null,
      "outputs": [
        {
          "output_type": "stream",
          "text": [
            "\n",
            "l.PUSH 2.POP 3.DISPLAY 4.EXIT\n",
            "Enter Your Choice: 1\n",
            "Enter element: 4\n",
            "Inserted\n",
            "\n",
            "l.PUSH 2.POP 3.DISPLAY 4.EXIT\n",
            "Enter Your Choice: 3\n",
            "The Elements in Stack is: \n",
            "4\n",
            "\n",
            "l.PUSH 2.POP 3.DISPLAY 4.EXIT\n",
            "Enter Your Choice: 1\n",
            "Enter element: 5\n",
            "Inserted\n",
            "\n",
            "l.PUSH 2.POP 3.DISPLAY 4.EXIT\n",
            "Enter Your Choice: 1\n",
            "Enter element: 7\n",
            "Inserted\n",
            "\n",
            "l.PUSH 2.POP 3.DISPLAY 4.EXIT\n",
            "Enter Your Choice: 2\n",
            "Deleted element is:  7\n",
            "\n",
            "l.PUSH 2.POP 3.DISPLAY 4.EXIT\n",
            "Enter Your Choice: 3\n",
            "The Elements in Stack is: \n",
            "5\n",
            "4\n",
            "\n",
            "l.PUSH 2.POP 3.DISPLAY 4.EXIT\n",
            "Enter Your Choice: 4\n"
          ],
          "name": "stdout"
        },
        {
          "output_type": "error",
          "ename": "SystemExit",
          "evalue": "ignored",
          "traceback": [
            "An exception has occurred, use %tb to see the full traceback.\n",
            "\u001b[0;31mSystemExit\u001b[0m\n"
          ]
        },
        {
          "output_type": "stream",
          "text": [
            "/usr/local/lib/python3.7/dist-packages/IPython/core/interactiveshell.py:2890: UserWarning: To exit: use 'exit', 'quit', or Ctrl-D.\n",
            "  warn(\"To exit: use 'exit', 'quit', or Ctrl-D.\", stacklevel=1)\n"
          ],
          "name": "stderr"
        }
      ]
    },
    {
      "cell_type": "code",
      "metadata": {
        "colab": {
          "base_uri": "https://localhost:8080/"
        },
        "id": "HD0OFufH4LuQ",
        "outputId": "1e9ef379-5170-48d4-d3b1-a7fdb26c4d19"
      },
      "source": [
        " #16B.\n",
        "def knapSack(W, wt, val, n):\n",
        "   K= [[0 for x in range(W+1)] for x in range(n+1)]\n",
        "   for i in range(n+1):\n",
        "     for w in range(W+1):\n",
        "       if i==0 or w==0:\n",
        "          K[i][w] = 0\n",
        "       elif wt[i-1]<=w:\n",
        "          K[i][w]= max(val[i-1]+K[i-1][w-wt[i-1]],K[i-1][w])\n",
        "       else:\n",
        "          K[i][w] = K[i-1][w]\n",
        "   return K[n][W]\n",
        "val = [5, 3, 4]\n",
        "wt = [3, 2, 1]\n",
        "W = 5\n",
        "n= len(val)\n",
        "print(\"Maximum value knapsack of capacity W: \", knapSack(W, wt,val,n))"
      ],
      "execution_count": null,
      "outputs": [
        {
          "output_type": "stream",
          "text": [
            "Maximum value knapsack of capacity W:  9\n"
          ],
          "name": "stdout"
        }
      ]
    },
    {
      "cell_type": "markdown",
      "metadata": {
        "id": "LzEvTJVN4WP4"
      },
      "source": [
        "Exercise 17 &18"
      ]
    },
    {
      "cell_type": "markdown",
      "metadata": {
        "id": "n1onPV_E45KC"
      },
      "source": [
        "Data analysis or manipulation using the following packages \n",
        "\n",
        "A)numpy B)pandas \n",
        "\n",
        "A) scipy B)matplotlib"
      ]
    },
    {
      "cell_type": "code",
      "metadata": {
        "colab": {
          "base_uri": "https://localhost:8080/"
        },
        "id": "2v4nrCl15SAT",
        "outputId": "e93a638e-6436-4b66-87ac-c8a4613202d8"
      },
      "source": [
        " #17 & 18.\n",
        " \n",
        "#Python version\n",
        "import sys\n",
        "print('Python: {}'.format(sys.version))\n",
        " \n",
        "#scipy\n",
        "import scipy\n",
        "print('scipy: {}'.format(scipy.__version__))\n",
        " \n",
        "# numpy\n",
        "import numpy\n",
        "print( 'numpy: {}'.format(numpy.__version__))\n",
        " \n",
        "# matplotlib\n",
        "import matplotlib\n",
        "print('matplotlib: {}'.format(matplotlib.__version__))\n",
        " \n",
        "# pandas\n",
        "import pandas\n",
        "print('pandas: {}'.format(pandas.__version__))\n",
        " \n",
        "#scikit-learn\n",
        "import sklearn\n",
        "print('sklearn: {}'.format(sklearn.__version__))\n",
        "import seaborn\n",
        "print('seaborn: {}'.format(seaborn.__version__))\n",
        "import urllib\n",
        "print('urlib: {}'.format(urllib.__name__))\n",
        "import csv\n",
        "print('csv: {}'.format(csv.__version__))"
      ],
      "execution_count": null,
      "outputs": [
        {
          "output_type": "stream",
          "text": [
            "Python: 3.7.11 (default, Jul  3 2021, 18:01:19) \n",
            "[GCC 7.5.0]\n",
            "scipy: 1.4.1\n",
            "numpy: 1.19.5\n",
            "matplotlib: 3.2.2\n",
            "pandas: 1.1.5\n",
            "sklearn: 0.22.2.post1\n",
            "seaborn: 0.11.1\n",
            "urlib: urllib\n",
            "csv: 1.0\n"
          ],
          "name": "stdout"
        }
      ]
    }
  ]
}