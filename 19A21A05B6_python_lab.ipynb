{
  "nbformat": 4,
  "nbformat_minor": 0,
  "metadata": {
    "colab": {
      "name": "19A21A05B6 -python lab",
      "provenance": [],
      "authorship_tag": "ABX9TyMw/DG5yPpiCZIlQmdwGmL+",
      "include_colab_link": true
    },
    "kernelspec": {
      "name": "python3",
      "display_name": "Python 3"
    },
    "language_info": {
      "name": "python"
    }
  },
  "cells": [
    {
      "cell_type": "markdown",
      "metadata": {
        "id": "view-in-github",
        "colab_type": "text"
      },
      "source": [
        "<a href=\"https://colab.research.google.com/github/SrivaniPuvvada/Python-lab/blob/main/19A21A05B6_python_lab.ipynb\" target=\"_parent\"><img src=\"https://colab.research.google.com/assets/colab-badge.svg\" alt=\"Open In Colab\"/></a>"
      ]
    },
    {
      "cell_type": "markdown",
      "metadata": {
        "id": "Z4dYEjviD_DS"
      },
      "source": [
        "Name : P.B.N.Srivani \n",
        "\n",
        "Regdno: 19A21A05B6\n",
        "\n",
        "Section: CSE-B"
      ]
    },
    {
      "cell_type": "markdown",
      "metadata": {
        "id": "gGBftWw1f4Uk"
      },
      "source": [
        "Exercise -1"
      ]
    },
    {
      "cell_type": "markdown",
      "metadata": {
        "id": "SOSnVUkdf69S"
      },
      "source": [
        "a) Running instructions in interactive interpreter and a python script"
      ]
    },
    {
      "cell_type": "code",
      "metadata": {
        "colab": {
          "base_uri": "https://localhost:8080/"
        },
        "id": "k83kcm1IgEkB",
        "outputId": "b94e0d60-e7c7-4c38-e543-d417343b2251"
      },
      "source": [
        "20+40"
      ],
      "execution_count": null,
      "outputs": [
        {
          "output_type": "execute_result",
          "data": {
            "text/plain": [
              "60"
            ]
          },
          "metadata": {
            "tags": []
          },
          "execution_count": 2
        }
      ]
    },
    {
      "cell_type": "code",
      "metadata": {
        "colab": {
          "base_uri": "https://localhost:8080/",
          "height": 35
        },
        "id": "0oqOQ5w5gIqh",
        "outputId": "9d01879c-5b9f-4590-88b1-5f851e24d2d5"
      },
      "source": [
        "p,q,r=10,56.3,\"cse\" \n",
        "r"
      ],
      "execution_count": null,
      "outputs": [
        {
          "output_type": "execute_result",
          "data": {
            "application/vnd.google.colaboratory.intrinsic+json": {
              "type": "string"
            },
            "text/plain": [
              "'cse'"
            ]
          },
          "metadata": {
            "tags": []
          },
          "execution_count": 7
        }
      ]
    },
    {
      "cell_type": "markdown",
      "metadata": {
        "id": "J3qnsWLngmDi"
      },
      "source": [
        "b) write a program to purposefully raise indentation error and correct it"
      ]
    },
    {
      "cell_type": "code",
      "metadata": {
        "colab": {
          "base_uri": "https://localhost:8080/",
          "height": 163
        },
        "id": "SrWuUUyqgyrU",
        "outputId": "082468c0-6b69-4818-a626-b70617f94c7d"
      },
      "source": [
        "a=10\n",
        "b=20\n",
        "if a>b:\n",
        "print(\"a is big\") \n",
        "else:\n",
        "print(\"b is big\")"
      ],
      "execution_count": null,
      "outputs": [
        {
          "output_type": "error",
          "ename": "IndentationError",
          "evalue": "ignored",
          "traceback": [
            "\u001b[0;36m  File \u001b[0;32m\"<ipython-input-8-7e53c3fe297e>\"\u001b[0;36m, line \u001b[0;32m3\u001b[0m\n\u001b[0;31m    print(\"a is big\")\u001b[0m\n\u001b[0m        ^\u001b[0m\n\u001b[0;31mIndentationError\u001b[0m\u001b[0;31m:\u001b[0m expected an indented block\n"
          ]
        }
      ]
    },
    {
      "cell_type": "markdown",
      "metadata": {
        "id": "0nsRAJuVhHTi"
      },
      "source": [
        "Identation syntax error, \n",
        "Correct code is"
      ]
    },
    {
      "cell_type": "code",
      "metadata": {
        "colab": {
          "base_uri": "https://localhost:8080/"
        },
        "id": "VrDIvWPYhMte",
        "outputId": "cc421069-5636-4604-8147-f7add0b7696a"
      },
      "source": [
        "a=10\n",
        "b=20\n",
        "if a>b:\n",
        "  print(\"a is big\") \n",
        "else: \n",
        "  print(\"b is big\")"
      ],
      "execution_count": null,
      "outputs": [
        {
          "output_type": "stream",
          "text": [
            "b is big\n"
          ],
          "name": "stdout"
        }
      ]
    },
    {
      "cell_type": "markdown",
      "metadata": {
        "id": "ZJgZTQiXh0E3"
      },
      "source": [
        "Exercise -2"
      ]
    },
    {
      "cell_type": "markdown",
      "metadata": {
        "id": "5IDCNjanh13Z"
      },
      "source": [
        "Write a program to compute distance between two points taking input from user"
      ]
    },
    {
      "cell_type": "code",
      "metadata": {
        "colab": {
          "base_uri": "https://localhost:8080/"
        },
        "id": "fKFnNheoh9H0",
        "outputId": "df97ef51-163b-46ef-ce66-0716a2daf8f5"
      },
      "source": [
        "import math\n",
        "x1=int(input(\"enter x1 value\")) \n",
        "x2=int(input(\"enter x2 value\"))\n",
        "y1=int(input(\"enter y1 value\"))\n",
        "y2=int(input(\"enter y2 value\")) \n",
        "d=math.sqrt((x2-x1)**2+(y2-y1)**2)\n",
        "print(\"Distance between two points is :\",d)"
      ],
      "execution_count": null,
      "outputs": [
        {
          "output_type": "stream",
          "text": [
            "enter x1 value10\n",
            "enter x2 value4\n",
            "enter y1 value5\n",
            "enter y2 value9\n",
            "Distance between two points is : 7.211102550927978\n"
          ],
          "name": "stdout"
        }
      ]
    },
    {
      "cell_type": "markdown",
      "metadata": {
        "id": "wHS_6ESfi1rY"
      },
      "source": [
        " Exercise-3"
      ]
    },
    {
      "cell_type": "markdown",
      "metadata": {
        "id": "Ph7p37EEi59B"
      },
      "source": [
        "a) write a program for checking whether given number is even or not"
      ]
    },
    {
      "cell_type": "code",
      "metadata": {
        "colab": {
          "base_uri": "https://localhost:8080/"
        },
        "id": "7sjBG8KQjAtA",
        "outputId": "d12090d5-1d07-475c-c432-b7c1f12e6232"
      },
      "source": [
        "x= int(input(\" enter the value\"))\n",
        "if x%2==0:\n",
        "  print(\"even number\")\n",
        "else:\n",
        "  print(\"odd number\")"
      ],
      "execution_count": null,
      "outputs": [
        {
          "output_type": "stream",
          "text": [
            " enter the value65\n",
            "odd number\n"
          ],
          "name": "stdout"
        }
      ]
    },
    {
      "cell_type": "markdown",
      "metadata": {
        "id": "qg5eOAhBjeXW"
      },
      "source": [
        "b) using for loop ,write a program that prints out the decimal equivalents of1/2,1/3,1/4,.....1/10"
      ]
    },
    {
      "cell_type": "code",
      "metadata": {
        "colab": {
          "base_uri": "https://localhost:8080/"
        },
        "id": "y2_MBCVZjzRu",
        "outputId": "ffafb611-74a4-489b-8356-8ae67e59f481"
      },
      "source": [
        "for i in range(2,11): \n",
        "  d=1/i\n",
        "  print(\"\\n1/\"+str(i)+\"=\",d)"
      ],
      "execution_count": null,
      "outputs": [
        {
          "output_type": "stream",
          "text": [
            "\n",
            "1/2= 0.5\n",
            "\n",
            "1/3= 0.3333333333333333\n",
            "\n",
            "1/4= 0.25\n",
            "\n",
            "1/5= 0.2\n",
            "\n",
            "1/6= 0.16666666666666666\n",
            "\n",
            "1/7= 0.14285714285714285\n",
            "\n",
            "1/8= 0.125\n",
            "\n",
            "1/9= 0.1111111111111111\n",
            "\n",
            "1/10= 0.1\n"
          ],
          "name": "stdout"
        }
      ]
    },
    {
      "cell_type": "markdown",
      "metadata": {
        "id": "O1HUvc3NkLha"
      },
      "source": [
        "c)write a program using for loop that loops over a sequence . What is sequence ?"
      ]
    },
    {
      "cell_type": "markdown",
      "metadata": {
        "id": "X0nP208dknuf"
      },
      "source": [
        "Sequence : collection of items or group of items with some ordering"
      ]
    },
    {
      "cell_type": "code",
      "metadata": {
        "colab": {
          "base_uri": "https://localhost:8080/"
        },
        "id": "9xAEecoSkyz7",
        "outputId": "72929471-8f53-472a-e132-1d5f4061462d"
      },
      "source": [
        "n=[45,2,6,7,9,-34] \n",
        "for i in n: \n",
        "   print(i)"
      ],
      "execution_count": null,
      "outputs": [
        {
          "output_type": "stream",
          "text": [
            "45\n",
            "2\n",
            "6\n",
            "7\n",
            "9\n",
            "-34\n"
          ],
          "name": "stdout"
        }
      ]
    },
    {
      "cell_type": "markdown",
      "metadata": {
        "id": "4ACU3gpulFoj"
      },
      "source": [
        "d)write a program using a while loop that asks the user for a number , and prints a countdown from that number to zero"
      ]
    },
    {
      "cell_type": "code",
      "metadata": {
        "colab": {
          "base_uri": "https://localhost:8080/"
        },
        "id": "nVtgiVcblaMO",
        "outputId": "804bf893-530a-4a0e-94b3-f6236c991e5b"
      },
      "source": [
        "x=int(input(\"enter a number\")) \n",
        "while x>0: \n",
        "  print(x) \n",
        "  x-=1"
      ],
      "execution_count": null,
      "outputs": [
        {
          "output_type": "stream",
          "text": [
            "enter a number5\n",
            "5\n",
            "4\n",
            "3\n",
            "2\n",
            "1\n"
          ],
          "name": "stdout"
        }
      ]
    },
    {
      "cell_type": "markdown",
      "metadata": {
        "id": "Oi9LLzZamJ2G"
      },
      "source": [
        " Exercise -4"
      ]
    },
    {
      "cell_type": "markdown",
      "metadata": {
        "id": "1ewGSBgmmX__"
      },
      "source": [
        "a)find the sum of all the primes below two million"
      ]
    },
    {
      "cell_type": "code",
      "metadata": {
        "id": "o_E7eEEkmtGZ",
        "colab": {
          "base_uri": "https://localhost:8080/"
        },
        "outputId": "9e682499-b403-4839-f52b-0c68da0b45b2"
      },
      "source": [
        " \n",
        "n=int(input(\" enter a limit \"))\n",
        "c=0\n",
        "sum=0\n",
        "for i in range(2,n):\n",
        "    c=0\n",
        "    for j in range(2,i):\n",
        "        if i%j==0:\n",
        "            c=1\n",
        "            break\n",
        "    if c==0:\n",
        "        sum=sum+i\n",
        "print(sum)"
      ],
      "execution_count": null,
      "outputs": [
        {
          "output_type": "stream",
          "text": [
            " enter a limit 10\n",
            "17\n"
          ],
          "name": "stdout"
        }
      ]
    },
    {
      "cell_type": "markdown",
      "metadata": {
        "id": "Ut5GyO4pf6ov"
      },
      "source": [
        " b)Each new term in the Fibonacci sequence is obtained by adding the previous two terms. By starting with 1 and 2, the first 10 terms are 1,2,3,5,8,13,21,34,55,89.\n",
        "By consider the Fibonacci terms less than four million, find the sum of even valued terms."
      ]
    },
    {
      "cell_type": "code",
      "metadata": {
        "colab": {
          "base_uri": "https://localhost:8080/"
        },
        "id": "WEQdsNRahkby",
        "outputId": "35797ec6-d8d3-44dc-e120-637ee597fc82"
      },
      "source": [
        " \n",
        "n=int(input(\" enter an number\"))\n",
        "sum=0\n",
        "fib1=1\n",
        "fib2=2\n",
        "for i in range(n):\n",
        "    if fib1%2==0:\n",
        "        sum=sum+fib1\n",
        "    fib=fib1+fib2\n",
        "    fib1=fib2\n",
        "    fib2=fib\n",
        "print(\"sum of even fibnoccai terms is\",sum)"
      ],
      "execution_count": null,
      "outputs": [
        {
          "output_type": "stream",
          "text": [
            " enter an number10\n",
            "sum of even fibnoccai terms is 44\n"
          ],
          "name": "stdout"
        }
      ]
    },
    {
      "cell_type": "markdown",
      "metadata": {
        "id": "9dKQM_Ahn5XA"
      },
      "source": [
        "Exercise -5"
      ]
    },
    {
      "cell_type": "markdown",
      "metadata": {
        "id": "ZqAk_gYKn6vi"
      },
      "source": [
        "a)write a program to count the no of characters in a string and store them in a dictionary structure"
      ]
    },
    {
      "cell_type": "code",
      "metadata": {
        "colab": {
          "base_uri": "https://localhost:8080/"
        },
        "id": "LDssyCS1op1P",
        "outputId": "dfeeb2fc-a01e-4839-8956-4ec1aed04497"
      },
      "source": [
        " \n",
        "str=input(\"enter a string:\")\n",
        "dic={}\n",
        "for ch in str:\n",
        "    keys=dic.keys()\n",
        "    if ch in keys:\n",
        "        dic[ch]=dic[ch]+1\n",
        "    else:\n",
        "        dic[ch]=1\n",
        "print(\"dictionary is \",dic)"
      ],
      "execution_count": null,
      "outputs": [
        {
          "output_type": "stream",
          "text": [
            "enter a string:Srivani\n",
            "dictionary is  {'S': 1, 'r': 1, 'i': 2, 'v': 1, 'a': 1, 'n': 1}\n"
          ],
          "name": "stdout"
        }
      ]
    },
    {
      "cell_type": "markdown",
      "metadata": {
        "id": "hfexs0V0uVFV"
      },
      "source": [
        "b) write a program to use split and join methods in a string and trace a birthday with a dictionary data structure ."
      ]
    },
    {
      "cell_type": "code",
      "metadata": {
        "colab": {
          "base_uri": "https://localhost:8080/"
        },
        "id": "1_EEhtGNvCq7",
        "outputId": "c1b62f3f-23ae-4802-b298-bd095642ab33"
      },
      "source": [
        " \n",
        "dob={\"Srivani\":\"12-08-2002\",\"Lakshmi\":\"24-10-2002\",\"Hema\":\"16-05-2002\"}\n",
        "name=input(\"enter which person dob u want:\")\n",
        "l=name.split()\n",
        " \n",
        "for i in l:\n",
        "    if i in dob.keys():\n",
        "        pers=i\n",
        " \n",
        "print(\" \".join([pers,\"birthday is:\",dob[pers]]))"
      ],
      "execution_count": null,
      "outputs": [
        {
          "output_type": "stream",
          "text": [
            "enter which person dob u want:Srivani\n",
            "Srivani birthday is: 12-08-2002\n"
          ],
          "name": "stdout"
        }
      ]
    },
    {
      "cell_type": "markdown",
      "metadata": {
        "id": "mNOn0bhqzGlt"
      },
      "source": [
        " Exercise -6"
      ]
    },
    {
      "cell_type": "markdown",
      "metadata": {
        "id": "s359hYb2zQq9"
      },
      "source": [
        "a) write a program combinelists that combines these lists into a dictionary"
      ]
    },
    {
      "cell_type": "code",
      "metadata": {
        "colab": {
          "base_uri": "https://localhost:8080/"
        },
        "id": "Gdk4t7hZziZF",
        "outputId": "f5724e51-fa02-4ba2-e74a-2eb219eb764a"
      },
      "source": [
        " \n",
        "state=[\"Karnataka\",\"orissa\",\"tamilnadu\",\"kerala\",\"westbengal\",\"maharastra\"]\n",
        "capital=[\"Bangalore\",\"bhuvaneswar\",\"chennai\",\"Thiruvananthapuram\",\"Kolkata\",\"mumbai\"]\n",
        "dic=dict(zip(state,capital))\n",
        "print(dic)"
      ],
      "execution_count": null,
      "outputs": [
        {
          "output_type": "stream",
          "text": [
            "{'Karnataka': 'Bangalore', 'orissa': 'bhuvaneswar', 'tamilnadu': 'chennai', 'kerala': 'Thiruvananthapuram', 'westbengal': 'Kolkata', 'maharastra': 'mumbai'}\n"
          ],
          "name": "stdout"
        }
      ]
    },
    {
      "cell_type": "markdown",
      "metadata": {
        "id": "jBqhOkHa3Gug"
      },
      "source": [
        "b) write a program to count the frequency of characters in a given file . Can you use character frequency to tell whether the given file is python file , cfile ,text file"
      ]
    },
    {
      "cell_type": "code",
      "metadata": {
        "id": "LXx1nfE43lqL"
      },
      "source": [
        " \n",
        "filetypes=['.py','.c','.txt']\n",
        "fn=input(\"enter a file name:\")\n",
        "f=open(fn,\"r\")\n",
        "count=dict()\n",
        "for  ft in filetypes:\n",
        "     if(ft in  fn):\n",
        "           if(ft==\".py\"):\n",
        "             print(\"python file\")\n",
        "           elif(ft==\".c\"):\n",
        "             print(\"cfile\")\n",
        "           elif(ft==\".txt\"):\n",
        "             print(\"text file\")\n",
        " \n",
        " \n",
        "for line in f:\n",
        "     for ch in line:\n",
        "          if ch in count:\n",
        "               count[ch]=count[ch]+1\n",
        " \n",
        "          else:\n",
        "              count[ch]=1\n",
        " \n",
        " \n",
        "print(count)\n",
        "f.close()"
      ],
      "execution_count": null,
      "outputs": []
    },
    {
      "cell_type": "markdown",
      "metadata": {
        "id": "dKtjM519s5ta"
      },
      "source": [
        "Exercise -7"
      ]
    },
    {
      "cell_type": "markdown",
      "metadata": {
        "id": "s8Bwwrhrs7XC"
      },
      "source": [
        " a) write a program to print each line of a file in reverse order"
      ]
    },
    {
      "cell_type": "code",
      "metadata": {
        "id": "H3Q3gQmVtLEj"
      },
      "source": [
        " \n",
        "fo=open(\"cse.txt\",\"r\")\n",
        "if fo:\n",
        "    st=fo.read()\n",
        "    print(\"file content is:\")\n",
        "fo.close()\n",
        "print()\n",
        "lines=st.split('\\n')\n",
        "for ln in lines:\n",
        "    i=len(ln)-1\n",
        "    while(i>=0):\n",
        "      print(ln[i],end='')\n",
        "      i=i-1\n",
        "    print()"
      ],
      "execution_count": null,
      "outputs": []
    },
    {
      "cell_type": "markdown",
      "metadata": {
        "id": "o8tpGUmMt0W_"
      },
      "source": [
        " b) write a program to compute the no.of characters,words and files in a file"
      ]
    },
    {
      "cell_type": "code",
      "metadata": {
        "id": "iASAvKnnuJbm"
      },
      "source": [
        " fo=open(\"cse.txt\",\"r\")\n",
        "if fo:\n",
        "    st=fo.read()\n",
        "    print(\"file content is:\")\n",
        "fo.close()\n",
        "print()\n",
        "nc=nw=nl=0\n",
        "for ch in st:\n",
        "    if(ch):\n",
        "        nc=nc+1\n",
        "    if(ch==''):\n",
        "        nw=nw+1\n",
        "    if(ch=='\\n'):\n",
        "        nl=nl+1\n",
        " \n",
        "print(\"number of characters in a file:\",nc)\n",
        "print(\"number of words in file is:\",nw)\n",
        "print(\"number of lines ins file:\",nl)"
      ],
      "execution_count": null,
      "outputs": []
    },
    {
      "cell_type": "markdown",
      "metadata": {
        "id": "YyhbV9i0udVd"
      },
      "source": [
        " Exercise -8"
      ]
    },
    {
      "cell_type": "markdown",
      "metadata": {
        "id": "SoZcZ04Wuhz5"
      },
      "source": [
        "a)Write a function ball collide that  takes two balls as parameters and compute if they are colliding. Your function should return Boolean representing whether or not the  two balls are colliding\n",
        "If distance between two balls centres <= sum of their radii then they are collides"
      ]
    },
    {
      "cell_type": "code",
      "metadata": {
        "colab": {
          "base_uri": "https://localhost:8080/"
        },
        "id": "aEYMMkLUvr3y",
        "outputId": "5dab7ef1-b129-4a66-acf0-e9d9ef7688dc"
      },
      "source": [
        " \n",
        "import math\n",
        "def ballcollide(tup1,tup2):\n",
        "    [x1,y1,r1]=tup1\n",
        "    [x2,y2,r2]=tup2\n",
        "    d=math.sqrt((x2-x1)**2+(y2-y1)**2)\n",
        "    if(d<=r1+r2):\n",
        "      return True\n",
        "    else:\n",
        "        return False\n",
        " \n",
        " \n",
        "ball1=(9,2,4)\n",
        "ball2=(3,5,1)\n",
        "c=ballcollide(ball1,ball2)\n",
        "if(c):\n",
        "    print(\"balls are collided\")\n",
        "else:\n",
        "    print(\"ball are not collided\")"
      ],
      "execution_count": null,
      "outputs": [
        {
          "output_type": "stream",
          "text": [
            "ball are not collided\n"
          ],
          "name": "stdout"
        }
      ]
    },
    {
      "cell_type": "markdown",
      "metadata": {
        "id": "aSqEeh0exdug"
      },
      "source": [
        " b)find the mean,median,mode for the given set of numbers in the list"
      ]
    },
    {
      "cell_type": "code",
      "metadata": {
        "id": "XcI_FO_Xxut2",
        "colab": {
          "base_uri": "https://localhost:8080/"
        },
        "outputId": "4bfc2f05-2b8f-4941-d96a-a2ed53dc1816"
      },
      "source": [
        "def mean(numlist):\n",
        "    return sum(numlist)/len(numlist)\n",
        "def median(numlist):\n",
        "    numlist.sort()\n",
        "    print(numlist)\n",
        "    n=len(numlist)\n",
        "    print(\"total\",n)\n",
        "    mid=n//2\n",
        "    print(\"mid:\",mid)\n",
        "    if(n%2==0):\n",
        "        return numlist[mid]\n",
        "    else:\n",
        "        return (numlist[mid-1]+numlist[mid])/2\n",
        "def mode(numlist):\n",
        "    numlist.sort()\n",
        "    temp=[]\n",
        "    i=0\n",
        "    while i<len(numlist):\n",
        "        temp.append(numlist.count(numlist[i]))\n",
        "        i+=1\n",
        "    dic=dict(zip(numlist,temp))\n",
        "    modes={k for k, v in dic.items() if(v==max(temp))}\n",
        "    return modes\n",
        "list=[1,1,2,2,3,4,5,3,3]\n",
        "print(\"mean of given list:\",mean(list))\n",
        "print(\"median of given list:\",median(list))\n",
        " \n",
        "print(\"mode of given list:\",mode(list))"
      ],
      "execution_count": null,
      "outputs": [
        {
          "output_type": "stream",
          "text": [
            "mean of given list: 2.6666666666666665\n",
            "[1, 1, 2, 2, 3, 3, 3, 4, 5]\n",
            "total 9\n",
            "mid: 4\n",
            "median of given list: 2.5\n",
            "mode of given list: {3}\n"
          ],
          "name": "stdout"
        }
      ]
    },
    {
      "cell_type": "markdown",
      "metadata": {
        "id": "wi6XvBvaZ6gZ"
      },
      "source": [
        " Exercise -9"
      ]
    },
    {
      "cell_type": "markdown",
      "metadata": {
        "id": "2T1YoTzjb0Tc"
      },
      "source": [
        " a) write a program to test whether two strings are nearly equal . Two strings a and b are nearly equal if a is generated by single mutation of b"
      ]
    },
    {
      "cell_type": "code",
      "metadata": {
        "colab": {
          "base_uri": "https://localhost:8080/"
        },
        "id": "w3uFycU3cGLs",
        "outputId": "c9d6b3da-cc73-45c4-ae2a-c311ecc443de"
      },
      "source": [
        " def nearlyeq(str1,str2):\n",
        "    count=0\n",
        "    i=j=0\n",
        "    ss=0\n",
        "    while(i<len(str1)and j<len(str2)):\n",
        "        if(str1[i]!=str2[j]):\n",
        "            count+=1\n",
        "        if(len(str1)>len(str2)):\n",
        "            i+=1\n",
        " \n",
        "        elif(len(str1)==len(str2)):\n",
        "            pass\n",
        "        else:\n",
        "            i-=1     \n",
        "        if(count>1):\n",
        "             ss-=1\n",
        "             \n",
        "        i+=1\n",
        "        j+=1\n",
        "        if(count<2):\n",
        "             ss+=1\n",
        " \n",
        "    return ss\n",
        "s1=input(\"enter a string 1:\")\n",
        "s2=input(\"enter the string2:\")\n",
        "t=nearlyeq(s1,s2)\n",
        "if(t>1):\n",
        "    print(\"nearly equal\")\n",
        "else:\n",
        "    print(\"not nearly equal\")"
      ],
      "execution_count": null,
      "outputs": [
        {
          "output_type": "stream",
          "text": [
            "enter a string 1:Vani\n",
            "enter the string2:Rani\n",
            "nearly equal\n"
          ],
          "name": "stdout"
        }
      ]
    },
    {
      "cell_type": "markdown",
      "metadata": {
        "id": "enDqg5hxckH6"
      },
      "source": [
        "b)write a function dup to find all duplicate s in the list."
      ]
    },
    {
      "cell_type": "code",
      "metadata": {
        "colab": {
          "base_uri": "https://localhost:8080/"
        },
        "id": "I_LsCtF4cylC",
        "outputId": "3925ec6b-88c3-4219-d551-1d4fc7f68e1f"
      },
      "source": [
        " def dup(list):\n",
        "  list1=[]\n",
        "  for i in list:\n",
        "    count=list.count(i)\n",
        "    if(count>1 and (i not in list1)):\n",
        "        list1.append(i)\n",
        "        \n",
        "  print(\"the dups in the list are:\",list1)        \n",
        "list2=[1,2,1,2]\n",
        " \n",
        "dup(list2)"
      ],
      "execution_count": null,
      "outputs": [
        {
          "output_type": "stream",
          "text": [
            "the dups in the list are: [1, 2]\n"
          ],
          "name": "stdout"
        }
      ]
    },
    {
      "cell_type": "markdown",
      "metadata": {
        "id": "zZVj2riQc-n8"
      },
      "source": [
        "C) write a function unique to find all the unique numbers in the list"
      ]
    },
    {
      "cell_type": "code",
      "metadata": {
        "colab": {
          "base_uri": "https://localhost:8080/"
        },
        "id": "T-a68w9QdImw",
        "outputId": "211f11bb-496c-4cb3-da0c-2aed587a583a"
      },
      "source": [
        " def unique(list1):\n",
        "  list2={}\n",
        " \n",
        "  for i in list1:\n",
        "    c=list1.count(i)\n",
        "    if c==1:\n",
        "      list2[i]=c\n",
        "  print(\"the unique elements in the list are:\",list2)\n",
        " \n",
        "list=[10,122,10,53,45,6,53,88,9]\n",
        "unique(list)"
      ],
      "execution_count": null,
      "outputs": [
        {
          "output_type": "stream",
          "text": [
            "the unique elements in the list are: {122: 1, 45: 1, 6: 1, 88: 1, 9: 1}\n"
          ],
          "name": "stdout"
        }
      ]
    },
    {
      "cell_type": "markdown",
      "metadata": {
        "id": "hfsmOoS3dhAz"
      },
      "source": [
        "Exercise-10"
      ]
    },
    {
      "cell_type": "markdown",
      "metadata": {
        "id": "CJR5kvgediwN"
      },
      "source": [
        " a)write a function cumulative product to compute cumulative product of a list of numbers"
      ]
    },
    {
      "cell_type": "code",
      "metadata": {
        "colab": {
          "base_uri": "https://localhost:8080/"
        },
        "id": "ZTtImHogKAQn",
        "outputId": "9dfbebee-29a4-4f03-fca2-e360da7cf6c1"
      },
      "source": [
        "def cumpro(list1):\n",
        "  pro=1\n",
        "  temp=[]\n",
        "  for i in list1:\n",
        "    pro*=i\n",
        "    temp.append(pro)\n",
        "  return temp\n",
        "list=[11,2,1,3,5]\n",
        "print (\"given list is\",list)\n",
        "print(\"cumulative product of given list is\",cumpro(list))"
      ],
      "execution_count": null,
      "outputs": [
        {
          "output_type": "stream",
          "text": [
            "given list is [11, 2, 1, 3, 5]\n",
            "cumulative product of given list is [11, 22, 22, 66, 330]\n"
          ],
          "name": "stdout"
        }
      ]
    },
    {
      "cell_type": "markdown",
      "metadata": {
        "id": "Edtzz6NbK8LV"
      },
      "source": [
        "b)Write a function reverse to reverse a list without using reverse function"
      ]
    },
    {
      "cell_type": "code",
      "metadata": {
        "colab": {
          "base_uri": "https://localhost:8080/"
        },
        "id": "ea9IN_o2LHlI",
        "outputId": "1dc36984-2000-4a48-cdd5-d1418c74afbb"
      },
      "source": [
        " def reverse_list(numlist):\n",
        "    temp=list1[::-1]\n",
        "    numlist=temp\n",
        "    return temp\n",
        "list1=[31,12,23,49]\n",
        "print(\"given list is :\",list1)\n",
        "print(\"after reverse function:\",reverse_list(list1))\n",
        "print(\"after list is:\",list1)"
      ],
      "execution_count": null,
      "outputs": [
        {
          "output_type": "stream",
          "text": [
            "given list is : [31, 12, 23, 49]\n",
            "after reverse function: [49, 23, 12, 31]\n",
            "after list is: [31, 12, 23, 49]\n"
          ],
          "name": "stdout"
        }
      ]
    },
    {
      "cell_type": "markdown",
      "metadata": {
        "id": "tPL3WQFsLXWc"
      },
      "source": [
        "C)Write a function to compute GCD,LCM of two numbers . Each function shouldn't exceed one line."
      ]
    },
    {
      "cell_type": "code",
      "metadata": {
        "colab": {
          "base_uri": "https://localhost:8080/"
        },
        "id": "3HQHCfvOLmkc",
        "outputId": "ad3ca63d-7b3b-48da-914a-be040f6f8408"
      },
      "source": [
        " gcd=lambda a,b: a if b==0 else gcd(a,a%b)\n",
        "lcm=lambda a,b: (a*b)/gcd(a,b)\n",
        " \n",
        "x=8\n",
        "y=40\n",
        "print(\"gcd=\",gcd(x,y))\n",
        "print(\"lcm=\",lcm(x,y))"
      ],
      "execution_count": null,
      "outputs": [
        {
          "output_type": "stream",
          "text": [
            "gcd= 8\n",
            "lcm= 40.0\n"
          ],
          "name": "stdout"
        }
      ]
    }
  ]
}